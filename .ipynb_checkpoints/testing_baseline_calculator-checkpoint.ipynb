{
 "cells": [
  {
   "cell_type": "code",
   "execution_count": 1,
   "metadata": {},
   "outputs": [],
   "source": [
    "# Test functions for baseline_calculator_code.py and baseline_calculator_test.py"
   ]
  },
  {
   "cell_type": "code",
   "execution_count": 30,
   "metadata": {},
   "outputs": [],
   "source": [
    "# Import test json script for testing\n",
    "import json\n",
    "\n",
    "# Reads json file and puts file information into dict form i.e. test data\n",
    "with open('test_json_traverse.json') as f:\n",
    "  test_data_dict = json.load(f)\n",
    "\n",
    "## Outputs test_json_traverse file as a dictionary\n",
    "#print(test_data_dict)"
   ]
  },
  {
   "cell_type": "code",
   "execution_count": 46,
   "metadata": {},
   "outputs": [
    {
     "data": {
      "text/plain": [
       "dict_items"
      ]
     },
     "execution_count": 46,
     "metadata": {},
     "output_type": "execute_result"
    }
   ],
   "source": [
    "# Converts dict to JSON string\n",
    "test_data = json.dumps(test_data_dict, indent = 2)\n",
    "\n",
    "## Outputs test data as a string\n",
    "#print(test_data)\n",
    "\n",
    "test_data_dict.items()\n",
    "type(test_data_dict.items())"
   ]
  },
  {
   "cell_type": "code",
   "execution_count": 56,
   "metadata": {},
   "outputs": [],
   "source": [
    "# Converts dict to list\n",
    "new_test_data = list(test_data_dict)"
   ]
  },
  {
   "cell_type": "code",
   "execution_count": 75,
   "metadata": {},
   "outputs": [
    {
     "ename": "AttributeError",
     "evalue": "'dict' object has no attribute 'heating'",
     "output_type": "error",
     "traceback": [
      "\u001b[0;31m---------------------------------------------------------------------------\u001b[0m",
      "\u001b[0;31mAttributeError\u001b[0m                            Traceback (most recent call last)",
      "\u001b[0;32m<ipython-input-75-a3d7e47a321b>\u001b[0m in \u001b[0;36m<module>\u001b[0;34m\u001b[0m\n\u001b[1;32m      2\u001b[0m \u001b[0;34m\u001b[0m\u001b[0m\n\u001b[1;32m      3\u001b[0m \u001b[0;32mfor\u001b[0m \u001b[0melem\u001b[0m \u001b[0;32min\u001b[0m \u001b[0mtest_data_dict\u001b[0m\u001b[0;34m.\u001b[0m\u001b[0mvalues\u001b[0m\u001b[0;34m(\u001b[0m\u001b[0;34m)\u001b[0m\u001b[0;34m:\u001b[0m\u001b[0;34m\u001b[0m\u001b[0;34m\u001b[0m\u001b[0m\n\u001b[0;32m----> 4\u001b[0;31m     \u001b[0;32mfor\u001b[0m \u001b[0mval\u001b[0m \u001b[0;32min\u001b[0m \u001b[0melem\u001b[0m\u001b[0;34m.\u001b[0m\u001b[0mheating\u001b[0m\u001b[0;34m(\u001b[0m\u001b[0;34m)\u001b[0m\u001b[0;34m:\u001b[0m\u001b[0;34m\u001b[0m\u001b[0;34m\u001b[0m\u001b[0m\n\u001b[0m\u001b[1;32m      5\u001b[0m         \u001b[0;32mfor\u001b[0m \u001b[0mitem\u001b[0m \u001b[0;32min\u001b[0m \u001b[0mval\u001b[0m\u001b[0;34m[\u001b[0m\u001b[0;34m'test_data_dict'\u001b[0m\u001b[0;34m]\u001b[0m\u001b[0;34m:\u001b[0m\u001b[0;34m\u001b[0m\u001b[0;34m\u001b[0m\u001b[0m\n\u001b[1;32m      6\u001b[0m             \u001b[0mtraversed_vals\u001b[0m\u001b[0;34m(\u001b[0m\u001b[0;34m)\u001b[0m\u001b[0;34m\u001b[0m\u001b[0;34m\u001b[0m\u001b[0m\n",
      "\u001b[0;31mAttributeError\u001b[0m: 'dict' object has no attribute 'heating'"
     ]
    }
   ],
   "source": [
    "# Traverse function for test json structure \n",
    "\n",
    "for elem in test_data_dict.values():\n",
    "    for val in elem.():\n",
    "        for item in val['test_data_dict']:\n",
    "            traversed_vals()"
   ]
  },
  {
   "cell_type": "code",
   "execution_count": 76,
   "metadata": {},
   "outputs": [
    {
     "name": "stdout",
     "output_type": "stream",
     "text": [
      "AIA_CZ1\n",
      "AIA_CZ2\n"
     ]
    }
   ],
   "source": [
    "# Inspect the test data as a dictionary, climate zones are keys\n",
    "for key in test_data_dict:\n",
    "    print(key)"
   ]
  },
  {
   "cell_type": "code",
   "execution_count": 77,
   "metadata": {},
   "outputs": [
    {
     "name": "stdout",
     "output_type": "stream",
     "text": [
      "AIA_CZ1 -> {'single family home': {'electricity': {'heating': {'supply': {'resistance heat': {'stock': {'2015': 1, '2016': 1}, 'energy': {'2015': 2, '2016': 3}}, 'ASHP': {'stock': {'2015': 1, '2016': 1}, 'energy': {'2015': 5, '2016': 2}}, 'GSHP': {'stock': {'2015': 1, '2016': 1}, 'energy': {'2015': 3, '2016': 9}}}}, 'refrigeration': {'stock': {'2015': 1, '2016': 1}, 'energy': {'2015': 3, '2016': 5}}}}, 'multi family home': {'electricity': {'heating': {'supply': {'resistance heat': {'stock': {'2015': 1, '2016': 1}, 'energy': {'2015': 5, '2016': 7}}, 'ASHP': {'stock': {'2015': 1, '2016': 1}, 'energy': {'2015': 3, '2016': 8}}, 'GSHP': {'stock': {'2015': 1, '2016': 1}, 'energy': {'2015': 6, '2016': 4}}}}, 'refrigeration': {'stock': {'2015': 1, '2016': 1}, 'energy': {'2015': 7, '2016': 7}}}}, 'mobile home': {'electricity': {'heating': {'supply': {'resistance heat': {'stock': {'2015': 1, '2016': 1}, 'energy': {'2015': 2, '2016': 3}}, 'ASHP': {'stock': {'2015': 1, '2016': 1}, 'energy': {'2015': 9, '2016': 6}}, 'GSHP': {'stock': {'2015': 1, '2016': 1}, 'energy': {'2015': 5, '2016': 4}}}}, 'refrigeration': {'stock': {'2015': 1, '2016': 1}, 'energy': {'2015': 6, '2016': 8}}}}}\n",
      "AIA_CZ2 -> {'single family home': {'electricity': {'heating': {'supply': {'resistance heat': {'stock': {'2015': 1, '2016': 1}, 'energy': {'2015': 2, '2016': 3}}, 'ASHP': {'stock': {'2015': 1, '2016': 1}, 'energy': {'2015': 5, '2016': 2}}, 'GSHP': {'stock': {'2015': 1, '2016': 1}, 'energy': {'2015': 3, '2016': 9}}}}, 'refrigeration': {'stock': {'2015': 1, '2016': 1}, 'energy': {'2015': 5, '2016': 5}}}}, 'multi family home': {'electricity': {'heating': {'supply': {'resistance heat': {'stock': {'2015': 1, '2016': 1}, 'energy': {'2015': 5, '2016': 7}}, 'ASHP': {'stock': {'2015': 1, '2016': 1}, 'energy': {'2015': 3, '2016': 8}}, 'GSHP': {'stock': {'2015': 1, '2016': 1}, 'energy': {'2015': 6, '2016': 4}}}}, 'refrigeration': {'stock': {'2015': 1, '2016': 1}, 'energy': {'2015': 4, '2016': 7}}}}, 'mobile home': {'electricity': {'heating': {'supply': {'resistance heat': {'stock': {'2015': 1, '2016': 1}, 'energy': {'2015': 2, '2016': 3}}, 'ASHP': {'stock': {'2015': 1, '2016': 1}, 'energy': {'2015': 9, '2016': 6}}, 'GSHP': {'stock': {'2015': 1, '2016': 1}, 'energy': {'2015': 5, '2016': 4}}}}, 'refrigeration': {'stock': {'2015': 1, '2016': 1}, 'energy': {'2015': 9, '2016': 5}}}}}\n"
     ]
    }
   ],
   "source": [
    "for key in test_data_dict:\n",
    "    print(key, '->', test_data_dict[key])"
   ]
  },
  {
   "cell_type": "code",
   "execution_count": 78,
   "metadata": {},
   "outputs": [
    {
     "data": {
      "text/plain": [
       "dict_items([('AIA_CZ1', {'single family home': {'electricity': {'heating': {'supply': {'resistance heat': {'stock': {'2015': 1, '2016': 1}, 'energy': {'2015': 2, '2016': 3}}, 'ASHP': {'stock': {'2015': 1, '2016': 1}, 'energy': {'2015': 5, '2016': 2}}, 'GSHP': {'stock': {'2015': 1, '2016': 1}, 'energy': {'2015': 3, '2016': 9}}}}, 'refrigeration': {'stock': {'2015': 1, '2016': 1}, 'energy': {'2015': 3, '2016': 5}}}}, 'multi family home': {'electricity': {'heating': {'supply': {'resistance heat': {'stock': {'2015': 1, '2016': 1}, 'energy': {'2015': 5, '2016': 7}}, 'ASHP': {'stock': {'2015': 1, '2016': 1}, 'energy': {'2015': 3, '2016': 8}}, 'GSHP': {'stock': {'2015': 1, '2016': 1}, 'energy': {'2015': 6, '2016': 4}}}}, 'refrigeration': {'stock': {'2015': 1, '2016': 1}, 'energy': {'2015': 7, '2016': 7}}}}, 'mobile home': {'electricity': {'heating': {'supply': {'resistance heat': {'stock': {'2015': 1, '2016': 1}, 'energy': {'2015': 2, '2016': 3}}, 'ASHP': {'stock': {'2015': 1, '2016': 1}, 'energy': {'2015': 9, '2016': 6}}, 'GSHP': {'stock': {'2015': 1, '2016': 1}, 'energy': {'2015': 5, '2016': 4}}}}, 'refrigeration': {'stock': {'2015': 1, '2016': 1}, 'energy': {'2015': 6, '2016': 8}}}}}), ('AIA_CZ2', {'single family home': {'electricity': {'heating': {'supply': {'resistance heat': {'stock': {'2015': 1, '2016': 1}, 'energy': {'2015': 2, '2016': 3}}, 'ASHP': {'stock': {'2015': 1, '2016': 1}, 'energy': {'2015': 5, '2016': 2}}, 'GSHP': {'stock': {'2015': 1, '2016': 1}, 'energy': {'2015': 3, '2016': 9}}}}, 'refrigeration': {'stock': {'2015': 1, '2016': 1}, 'energy': {'2015': 5, '2016': 5}}}}, 'multi family home': {'electricity': {'heating': {'supply': {'resistance heat': {'stock': {'2015': 1, '2016': 1}, 'energy': {'2015': 5, '2016': 7}}, 'ASHP': {'stock': {'2015': 1, '2016': 1}, 'energy': {'2015': 3, '2016': 8}}, 'GSHP': {'stock': {'2015': 1, '2016': 1}, 'energy': {'2015': 6, '2016': 4}}}}, 'refrigeration': {'stock': {'2015': 1, '2016': 1}, 'energy': {'2015': 4, '2016': 7}}}}, 'mobile home': {'electricity': {'heating': {'supply': {'resistance heat': {'stock': {'2015': 1, '2016': 1}, 'energy': {'2015': 2, '2016': 3}}, 'ASHP': {'stock': {'2015': 1, '2016': 1}, 'energy': {'2015': 9, '2016': 6}}, 'GSHP': {'stock': {'2015': 1, '2016': 1}, 'energy': {'2015': 5, '2016': 4}}}}, 'refrigeration': {'stock': {'2015': 1, '2016': 1}, 'energy': {'2015': 9, '2016': 5}}}}})])"
      ]
     },
     "execution_count": 78,
     "metadata": {},
     "output_type": "execute_result"
    }
   ],
   "source": [
    "test_data_items = test_data_dict.items()\n",
    "test_data_items"
   ]
  },
  {
   "cell_type": "code",
   "execution_count": 80,
   "metadata": {},
   "outputs": [
    {
     "name": "stdout",
     "output_type": "stream",
     "text": [
      "('AIA_CZ1', {'single family home': {'electricity': {'heating': {'supply': {'resistance heat': {'stock': {'2015': 1, '2016': 1}, 'energy': {'2015': 2, '2016': 3}}, 'ASHP': {'stock': {'2015': 1, '2016': 1}, 'energy': {'2015': 5, '2016': 2}}, 'GSHP': {'stock': {'2015': 1, '2016': 1}, 'energy': {'2015': 3, '2016': 9}}}}, 'refrigeration': {'stock': {'2015': 1, '2016': 1}, 'energy': {'2015': 3, '2016': 5}}}}, 'multi family home': {'electricity': {'heating': {'supply': {'resistance heat': {'stock': {'2015': 1, '2016': 1}, 'energy': {'2015': 5, '2016': 7}}, 'ASHP': {'stock': {'2015': 1, '2016': 1}, 'energy': {'2015': 3, '2016': 8}}, 'GSHP': {'stock': {'2015': 1, '2016': 1}, 'energy': {'2015': 6, '2016': 4}}}}, 'refrigeration': {'stock': {'2015': 1, '2016': 1}, 'energy': {'2015': 7, '2016': 7}}}}, 'mobile home': {'electricity': {'heating': {'supply': {'resistance heat': {'stock': {'2015': 1, '2016': 1}, 'energy': {'2015': 2, '2016': 3}}, 'ASHP': {'stock': {'2015': 1, '2016': 1}, 'energy': {'2015': 9, '2016': 6}}, 'GSHP': {'stock': {'2015': 1, '2016': 1}, 'energy': {'2015': 5, '2016': 4}}}}, 'refrigeration': {'stock': {'2015': 1, '2016': 1}, 'energy': {'2015': 6, '2016': 8}}}}})\n",
      "<class 'tuple'>\n",
      "('AIA_CZ2', {'single family home': {'electricity': {'heating': {'supply': {'resistance heat': {'stock': {'2015': 1, '2016': 1}, 'energy': {'2015': 2, '2016': 3}}, 'ASHP': {'stock': {'2015': 1, '2016': 1}, 'energy': {'2015': 5, '2016': 2}}, 'GSHP': {'stock': {'2015': 1, '2016': 1}, 'energy': {'2015': 3, '2016': 9}}}}, 'refrigeration': {'stock': {'2015': 1, '2016': 1}, 'energy': {'2015': 5, '2016': 5}}}}, 'multi family home': {'electricity': {'heating': {'supply': {'resistance heat': {'stock': {'2015': 1, '2016': 1}, 'energy': {'2015': 5, '2016': 7}}, 'ASHP': {'stock': {'2015': 1, '2016': 1}, 'energy': {'2015': 3, '2016': 8}}, 'GSHP': {'stock': {'2015': 1, '2016': 1}, 'energy': {'2015': 6, '2016': 4}}}}, 'refrigeration': {'stock': {'2015': 1, '2016': 1}, 'energy': {'2015': 4, '2016': 7}}}}, 'mobile home': {'electricity': {'heating': {'supply': {'resistance heat': {'stock': {'2015': 1, '2016': 1}, 'energy': {'2015': 2, '2016': 3}}, 'ASHP': {'stock': {'2015': 1, '2016': 1}, 'energy': {'2015': 9, '2016': 6}}, 'GSHP': {'stock': {'2015': 1, '2016': 1}, 'energy': {'2015': 5, '2016': 4}}}}, 'refrigeration': {'stock': {'2015': 1, '2016': 1}, 'energy': {'2015': 9, '2016': 5}}}}})\n",
      "<class 'tuple'>\n"
     ]
    }
   ],
   "source": [
    "for item in test_data_dict.items():\n",
    "    print(item)\n",
    "    print(type(item))"
   ]
  },
  {
   "cell_type": "code",
   "execution_count": 81,
   "metadata": {},
   "outputs": [
    {
     "name": "stdout",
     "output_type": "stream",
     "text": [
      "AIA_CZ1 -> {'single family home': {'electricity': {'heating': {'supply': {'resistance heat': {'stock': {'2015': 1, '2016': 1}, 'energy': {'2015': 2, '2016': 3}}, 'ASHP': {'stock': {'2015': 1, '2016': 1}, 'energy': {'2015': 5, '2016': 2}}, 'GSHP': {'stock': {'2015': 1, '2016': 1}, 'energy': {'2015': 3, '2016': 9}}}}, 'refrigeration': {'stock': {'2015': 1, '2016': 1}, 'energy': {'2015': 3, '2016': 5}}}}, 'multi family home': {'electricity': {'heating': {'supply': {'resistance heat': {'stock': {'2015': 1, '2016': 1}, 'energy': {'2015': 5, '2016': 7}}, 'ASHP': {'stock': {'2015': 1, '2016': 1}, 'energy': {'2015': 3, '2016': 8}}, 'GSHP': {'stock': {'2015': 1, '2016': 1}, 'energy': {'2015': 6, '2016': 4}}}}, 'refrigeration': {'stock': {'2015': 1, '2016': 1}, 'energy': {'2015': 7, '2016': 7}}}}, 'mobile home': {'electricity': {'heating': {'supply': {'resistance heat': {'stock': {'2015': 1, '2016': 1}, 'energy': {'2015': 2, '2016': 3}}, 'ASHP': {'stock': {'2015': 1, '2016': 1}, 'energy': {'2015': 9, '2016': 6}}, 'GSHP': {'stock': {'2015': 1, '2016': 1}, 'energy': {'2015': 5, '2016': 4}}}}, 'refrigeration': {'stock': {'2015': 1, '2016': 1}, 'energy': {'2015': 6, '2016': 8}}}}}\n",
      "AIA_CZ2 -> {'single family home': {'electricity': {'heating': {'supply': {'resistance heat': {'stock': {'2015': 1, '2016': 1}, 'energy': {'2015': 2, '2016': 3}}, 'ASHP': {'stock': {'2015': 1, '2016': 1}, 'energy': {'2015': 5, '2016': 2}}, 'GSHP': {'stock': {'2015': 1, '2016': 1}, 'energy': {'2015': 3, '2016': 9}}}}, 'refrigeration': {'stock': {'2015': 1, '2016': 1}, 'energy': {'2015': 5, '2016': 5}}}}, 'multi family home': {'electricity': {'heating': {'supply': {'resistance heat': {'stock': {'2015': 1, '2016': 1}, 'energy': {'2015': 5, '2016': 7}}, 'ASHP': {'stock': {'2015': 1, '2016': 1}, 'energy': {'2015': 3, '2016': 8}}, 'GSHP': {'stock': {'2015': 1, '2016': 1}, 'energy': {'2015': 6, '2016': 4}}}}, 'refrigeration': {'stock': {'2015': 1, '2016': 1}, 'energy': {'2015': 4, '2016': 7}}}}, 'mobile home': {'electricity': {'heating': {'supply': {'resistance heat': {'stock': {'2015': 1, '2016': 1}, 'energy': {'2015': 2, '2016': 3}}, 'ASHP': {'stock': {'2015': 1, '2016': 1}, 'energy': {'2015': 9, '2016': 6}}, 'GSHP': {'stock': {'2015': 1, '2016': 1}, 'energy': {'2015': 5, '2016': 4}}}}, 'refrigeration': {'stock': {'2015': 1, '2016': 1}, 'energy': {'2015': 9, '2016': 5}}}}}\n"
     ]
    }
   ],
   "source": [
    "## Can use tuple unpacking to iterate through key-value pairs\n",
    "for key, value in test_data_dict.items():\n",
    "    print(key, '->', value)"
   ]
  },
  {
   "cell_type": "code",
   "execution_count": 82,
   "metadata": {},
   "outputs": [
    {
     "name": "stdout",
     "output_type": "stream",
     "text": [
      "AIA_CZ1 -> {'single family home': {'electricity': {'heating': {'supply': {'resistance heat': {'stock': {'2015': 1, '2016': 1}, 'energy': {'2015': 2, '2016': 3}}, 'ASHP': {'stock': {'2015': 1, '2016': 1}, 'energy': {'2015': 5, '2016': 2}}, 'GSHP': {'stock': {'2015': 1, '2016': 1}, 'energy': {'2015': 3, '2016': 9}}}}, 'refrigeration': {'stock': {'2015': 1, '2016': 1}, 'energy': {'2015': 3, '2016': 5}}}}, 'multi family home': {'electricity': {'heating': {'supply': {'resistance heat': {'stock': {'2015': 1, '2016': 1}, 'energy': {'2015': 5, '2016': 7}}, 'ASHP': {'stock': {'2015': 1, '2016': 1}, 'energy': {'2015': 3, '2016': 8}}, 'GSHP': {'stock': {'2015': 1, '2016': 1}, 'energy': {'2015': 6, '2016': 4}}}}, 'refrigeration': {'stock': {'2015': 1, '2016': 1}, 'energy': {'2015': 7, '2016': 7}}}}, 'mobile home': {'electricity': {'heating': {'supply': {'resistance heat': {'stock': {'2015': 1, '2016': 1}, 'energy': {'2015': 2, '2016': 3}}, 'ASHP': {'stock': {'2015': 1, '2016': 1}, 'energy': {'2015': 9, '2016': 6}}, 'GSHP': {'stock': {'2015': 1, '2016': 1}, 'energy': {'2015': 5, '2016': 4}}}}, 'refrigeration': {'stock': {'2015': 1, '2016': 1}, 'energy': {'2015': 6, '2016': 8}}}}}\n",
      "AIA_CZ2 -> {'single family home': {'electricity': {'heating': {'supply': {'resistance heat': {'stock': {'2015': 1, '2016': 1}, 'energy': {'2015': 2, '2016': 3}}, 'ASHP': {'stock': {'2015': 1, '2016': 1}, 'energy': {'2015': 5, '2016': 2}}, 'GSHP': {'stock': {'2015': 1, '2016': 1}, 'energy': {'2015': 3, '2016': 9}}}}, 'refrigeration': {'stock': {'2015': 1, '2016': 1}, 'energy': {'2015': 5, '2016': 5}}}}, 'multi family home': {'electricity': {'heating': {'supply': {'resistance heat': {'stock': {'2015': 1, '2016': 1}, 'energy': {'2015': 5, '2016': 7}}, 'ASHP': {'stock': {'2015': 1, '2016': 1}, 'energy': {'2015': 3, '2016': 8}}, 'GSHP': {'stock': {'2015': 1, '2016': 1}, 'energy': {'2015': 6, '2016': 4}}}}, 'refrigeration': {'stock': {'2015': 1, '2016': 1}, 'energy': {'2015': 4, '2016': 7}}}}, 'mobile home': {'electricity': {'heating': {'supply': {'resistance heat': {'stock': {'2015': 1, '2016': 1}, 'energy': {'2015': 2, '2016': 3}}, 'ASHP': {'stock': {'2015': 1, '2016': 1}, 'energy': {'2015': 9, '2016': 6}}, 'GSHP': {'stock': {'2015': 1, '2016': 1}, 'energy': {'2015': 5, '2016': 4}}}}, 'refrigeration': {'stock': {'2015': 1, '2016': 1}, 'energy': {'2015': 9, '2016': 5}}}}}\n"
     ]
    }
   ],
   "source": [
    "for key in test_data_dict.keys():\n",
    "    print(key,'->', test_data_dict[key])"
   ]
  },
  {
   "cell_type": "code",
   "execution_count": 89,
   "metadata": {},
   "outputs": [],
   "source": [
    "# Iterate through values\n",
    "for value in test_data_dict.values():\n",
    "    for key in list(test_data_dict.values()):\n",
    "        if key == 'heating':\n",
    "            print(key)\n",
    "    #print (value)"
   ]
  },
  {
   "cell_type": "code",
   "execution_count": 90,
   "metadata": {},
   "outputs": [
    {
     "data": {
      "text/plain": [
       "{'single family home': {'electricity': {'heating': {'supply': {'resistance heat': {'stock': {'2015': 1,\n",
       "       '2016': 1},\n",
       "      'energy': {'2015': 2, '2016': 3}},\n",
       "     'ASHP': {'stock': {'2015': 1, '2016': 1},\n",
       "      'energy': {'2015': 5, '2016': 2}},\n",
       "     'GSHP': {'stock': {'2015': 1, '2016': 1},\n",
       "      'energy': {'2015': 3, '2016': 9}}}},\n",
       "   'refrigeration': {'stock': {'2015': 1, '2016': 1},\n",
       "    'energy': {'2015': 5, '2016': 5}}}},\n",
       " 'multi family home': {'electricity': {'heating': {'supply': {'resistance heat': {'stock': {'2015': 1,\n",
       "       '2016': 1},\n",
       "      'energy': {'2015': 5, '2016': 7}},\n",
       "     'ASHP': {'stock': {'2015': 1, '2016': 1},\n",
       "      'energy': {'2015': 3, '2016': 8}},\n",
       "     'GSHP': {'stock': {'2015': 1, '2016': 1},\n",
       "      'energy': {'2015': 6, '2016': 4}}}},\n",
       "   'refrigeration': {'stock': {'2015': 1, '2016': 1},\n",
       "    'energy': {'2015': 4, '2016': 7}}}},\n",
       " 'mobile home': {'electricity': {'heating': {'supply': {'resistance heat': {'stock': {'2015': 1,\n",
       "       '2016': 1},\n",
       "      'energy': {'2015': 2, '2016': 3}},\n",
       "     'ASHP': {'stock': {'2015': 1, '2016': 1},\n",
       "      'energy': {'2015': 9, '2016': 6}},\n",
       "     'GSHP': {'stock': {'2015': 1, '2016': 1},\n",
       "      'energy': {'2015': 5, '2016': 4}}}},\n",
       "   'refrigeration': {'stock': {'2015': 1, '2016': 1},\n",
       "    'energy': {'2015': 9, '2016': 5}}}}}"
      ]
     },
     "execution_count": 90,
     "metadata": {},
     "output_type": "execute_result"
    }
   ],
   "source": [
    "key"
   ]
  },
  {
   "cell_type": "code",
   "execution_count": null,
   "metadata": {},
   "outputs": [],
   "source": []
  }
 ],
 "metadata": {
  "kernelspec": {
   "display_name": "Python 3",
   "language": "python",
   "name": "python3"
  },
  "language_info": {
   "codemirror_mode": {
    "name": "ipython",
    "version": 3
   },
   "file_extension": ".py",
   "mimetype": "text/x-python",
   "name": "python",
   "nbconvert_exporter": "python",
   "pygments_lexer": "ipython3",
   "version": "3.7.4"
  }
 },
 "nbformat": 4,
 "nbformat_minor": 2
}
