{
 "cells": [
  {
   "cell_type": "code",
   "execution_count": null,
   "metadata": {},
   "outputs": [],
   "source": [
    "# Test functions for baseline_calculator_code.py and baseline_calculator_test.py"
   ]
  },
  {
   "cell_type": "code",
   "execution_count": 1,
   "metadata": {},
   "outputs": [],
   "source": [
    "# Import test json script for testing\n",
    "import json\n",
    "import numpy as np\n",
    "import baseline_calculator_code_2a\n",
    "import os\n",
    "import requests\n",
    "from unittest.mock import patch, call\n",
    "import unittest\n",
    "\n",
    "# Reads json file and puts file information into dict form i.e. test data\n",
    "#with open('test_json_traverse.json') as f:\n",
    "    #test_data_dict = json.load(f)\n",
    "\n",
    "## Outputs test_json_traverse file as a dictionary\n",
    "#print(test_data_dict)"
   ]
  },
  {
   "cell_type": "code",
   "execution_count": 2,
   "metadata": {},
   "outputs": [],
   "source": [
    "class Useful_json_translators(object):\n",
    "    def __init__(self):\n",
    "        ## Dict translators for building class, end use, and fuel type found on in the EIA data\n",
    "        # Dict of building class\n",
    "        self.bldg_class_translator = {'residential': 'RESD', 'commercial': 'COMM'}\n",
    "\n",
    "        #Dict of end uses\n",
    "        self.end_use_translator = {'clothes washers': 'CLW', 'clothes dryers': 'CDR', 'computers': 'CMPR', 'cooking': 'CGR', 'computing': 'OTHEQPPC' ,\n",
    "        'delivered energy':'DELE', 'dishwashers': 'DSW', 'fans and pumps': 'FPR', 'freezers': 'FRZ', 'lighting': 'LGHTNG', 'office equipment': 'OTHEQPNPC',\n",
    "        'other uses': 'OTHU','refrigeration': 'REFR', 'cooling': 'SPC', 'heating': 'SPH', 'TVs': 'TVR', 'ventilation': 'VNTC', 'water Heating': 'WTHT' }\n",
    "        \n",
    "        #Dict of fuel type, electricity is residential\n",
    "        # purchased electricity is for commercial\n",
    "        self.fuel_type_translator = {'electricity': 'ELC', 'Purchased Electricity': 'PRC', 'natural gas': 'NG'}\n",
    "        \n",
    "        ## Read in test data\n",
    "        #with open('test_json_traverse.json') as f:\n",
    "            #self.data_dict = json.load(f)\n",
    "        \n",
    "        ## Read in real data\n",
    "        #with open('supporting_data/stock_energy_tech_data/mseg_res_com_cz.json') as f:\n",
    "            #self.data_dict = json.load(f)"
   ]
  },
  {
   "cell_type": "code",
   "execution_count": 3,
   "metadata": {},
   "outputs": [],
   "source": [
    "json_dicts = Useful_json_translators()"
   ]
  },
  {
   "cell_type": "code",
   "execution_count": 4,
   "metadata": {},
   "outputs": [],
   "source": [
    "class Set_Up_Real_Data(object):\n",
    "    \"\"\" Test downstream functions by importing real data \"\"\"\n",
    "    @classmethod\n",
    "    def import_real_data(self):\n",
    "        with open('supporting_data/stock_energy_tech_data/mseg_res_com_cz.json') as f:\n",
    "            self.data_dict = json.load(f)\n",
    "            return self.data_dict"
   ]
  },
  {
   "cell_type": "code",
   "execution_count": 5,
   "metadata": {},
   "outputs": [],
   "source": [
    "real_data = Set_Up_Real_Data()"
   ]
  },
  {
   "cell_type": "code",
   "execution_count": 8,
   "metadata": {},
   "outputs": [],
   "source": [
    "## Current\n",
    "filter_strings = ['residential','electricity' , 'refrigeration']\n",
    "def recursive(data_dict, filter_strings , energy_vals, position_list=[]):\n",
    "    # OPERATION:   Recursive function traverses the json structure\n",
    "    #              Grabs energy values per year as numpy array\n",
    "    #              Test against test data first, then real data\n",
    "\n",
    "    ## Initialize classes\n",
    "    json_dicts = Useful_json_translators()\n",
    "    #real_data = Set_Up_Real_Data()\n",
    "\n",
    "\n",
    "    for key, value in real_data.data_dict.items():\n",
    "        if isinstance(value, dict):  \n",
    "            recursive(value, filter_strings , energy_vals, position_list+[key]) \n",
    "            \n",
    "        else:\n",
    "        ## At the endpoint/leaf node, use relevant fuel type and end use combination to filter neccessary energy values, aggregate energy value by year\n",
    "            \n",
    "            ## Store each year as a list\n",
    "            years_as_keys_list = (position_list+[key])\n",
    "            \n",
    "            ## Convert list into numpy array\n",
    "            years_as_keys_array = np.array(years_as_keys_list)\n",
    "\n",
    "            ## Create a dict for residential and commercial bldg types \n",
    "            ## Check format in EIA for proper syntax matching, \n",
    "            all_bldg_types ={'residential': ['single family home', 'multi family home', 'mobile homes'], \n",
    "            'commercial': ['assembly', 'education', 'food sales','food service', 'health care', 'lodging',\n",
    "            'small office','large office','mercantile/serice', 'warehouse', 'other']}\n",
    "            \n",
    "            if filter_strings[1] == years_as_keys_list[2] and filter_strings[2] == years_as_keys_list[3] and all_bldg_types[filter_strings[0]] and 'energy' in years_as_keys_list:\n",
    "                ## Sort by keys in year order and grab values in the order of the years as numpy array\n",
    "                energy_vals+=np.array([real_data.data_dict.keys() for key,value in sorted(real_data.data_dict.items())])\n",
    "                ## De-bugging purposes\n",
    "                print(type(energy_vals))\n",
    "\n",
    "    return (energy_vals)"
   ]
  },
  {
   "cell_type": "code",
   "execution_count": null,
   "metadata": {},
   "outputs": [],
   "source": []
  },
  {
   "cell_type": "code",
   "execution_count": 10,
   "metadata": {},
   "outputs": [
    {
     "ename": "AttributeError",
     "evalue": "'Set_Up_Real_Data' object has no attribute 'data_dict'",
     "output_type": "error",
     "traceback": [
      "\u001b[0;31m---------------------------------------------------------------------------\u001b[0m",
      "\u001b[0;31mAttributeError\u001b[0m                            Traceback (most recent call last)",
      "\u001b[0;32m<ipython-input-10-2af0def73292>\u001b[0m in \u001b[0;36m<module>\u001b[0;34m\u001b[0m\n\u001b[1;32m      1\u001b[0m \u001b[0mfilter_strings\u001b[0m \u001b[0;34m=\u001b[0m \u001b[0;34m[\u001b[0m\u001b[0;34m'residential'\u001b[0m\u001b[0;34m,\u001b[0m\u001b[0;34m'electricity'\u001b[0m \u001b[0;34m,\u001b[0m \u001b[0;34m'refrigeration'\u001b[0m\u001b[0;34m]\u001b[0m\u001b[0;34m\u001b[0m\u001b[0;34m\u001b[0m\u001b[0m\n\u001b[0;32m----> 2\u001b[0;31m \u001b[0mrecursive\u001b[0m\u001b[0;34m(\u001b[0m\u001b[0mreal_data\u001b[0m\u001b[0;34m.\u001b[0m\u001b[0mdata_dict\u001b[0m\u001b[0;34m,\u001b[0m \u001b[0mfilter_strings\u001b[0m\u001b[0;34m,\u001b[0m \u001b[0mnp\u001b[0m\u001b[0;34m.\u001b[0m\u001b[0mzeros\u001b[0m\u001b[0;34m(\u001b[0m\u001b[0;36m2\u001b[0m\u001b[0;34m)\u001b[0m\u001b[0;34m)\u001b[0m\u001b[0;34m\u001b[0m\u001b[0;34m\u001b[0m\u001b[0m\n\u001b[0m",
      "\u001b[0;31mAttributeError\u001b[0m: 'Set_Up_Real_Data' object has no attribute 'data_dict'"
     ]
    }
   ],
   "source": [
    "filter_strings = ['residential','electricity' , 'refrigeration']\n",
    "recursive(real_data.data_dict, filter_strings, np.zeros(2))"
   ]
  },
  {
   "cell_type": "code",
   "execution_count": null,
   "metadata": {},
   "outputs": [],
   "source": [
    "def recursive_prev(data_dict, filter_strings , energy_vals, position_list=[]):\n",
    "    # OPERATION:   Recursive function traverses the json structure\n",
    "    #              Grabs energy values per year as numpy array\n",
    "    #              Test against test data first, then real data\n",
    "\n",
    "    ## Initialize json translators\n",
    "    #json_dicts = Useful_json_translators()\n",
    "\n",
    "    for key, value in test_data_dict.items():\n",
    "        if isinstance(value, dict):  \n",
    "            recursive_prev(value, filter_strings , energy_vals, position_list+[key]) \n",
    "            \n",
    "        else:\n",
    "        ## At the endpoint/leaf node, use relevant fuel type and end use combination to filter neccessary energy values, aggregate energy value by year\n",
    "            \n",
    "            ## Store each year as a list\n",
    "            years_as_keys_list = (position_list+[key])\n",
    "            \n",
    "            ## Convert list into numpy array\n",
    "            years_as_keys_array = np.array(years_as_keys_list)\n",
    "\n",
    "            ## Create a dict for residential and commercial bldg types \n",
    "            ## Check format in EIA for proper syntax matching, \n",
    "            all_bldg_types ={'residential': ['single family home', 'multi family home', 'mobile homes'], \n",
    "            'commercial': ['assembly', 'education', 'food sales','food service', 'health care', 'lodging',\n",
    "            'small office','large office','mercantile/serice', 'warehouse', 'other']}\n",
    "            \n",
    "            if filter_strings[1] == years_as_keys_list[2] and filter_strings[2] == years_as_keys_list[3] and all_bldg_types[filter_strings[0]] and 'energy' in years_as_keys_list:\n",
    "                ## Sort by keys in year order and grab values in the order of the years as numpy array\n",
    "                energy_vals+=np.array([test_data_dict[key] for key,value in sorted(test_data_dict.items())])\n",
    "                ## De-bugging purposes\n",
    "                #print(type(energy_vals))\n",
    "\n",
    "    return (energy_vals)\n"
   ]
  },
  {
   "cell_type": "code",
   "execution_count": null,
   "metadata": {},
   "outputs": [],
   "source": [
    "filter_strings = ['residential', 'refrigeration']\n",
    "recursive_prev(test_data_dict, filter_strings, np.zeros(2))"
   ]
  },
  {
   "cell_type": "code",
   "execution_count": null,
   "metadata": {},
   "outputs": [],
   "source": []
  },
  {
   "cell_type": "code",
   "execution_count": null,
   "metadata": {},
   "outputs": [],
   "source": [
    "def construct_EIA_series_ID(filter_strings):\n",
    "    ## Initialize json translators\n",
    "    json_dicts = Useful_json_translators()\n",
    "\n",
    "    ## this statement will run if outcome is true\n",
    "    if filter_strings[0] == 'residential':\n",
    "        condition_1 = json_dicts.end_use_translator[filter_strings[2]]\n",
    "        condition_2 = 'NA'\n",
    "\n",
    "    ## Will run when 1st if block is false\n",
    "    elif filter_strings[0] == 'commercial':\n",
    "        condition_1 = 'NA'\n",
    "        condition_2 = json_dicts.end_use_translator[filter_strings[2]]\n",
    "\n",
    "    ## EIA series ID string\n",
    "    eia_series_ID = 'AEO.2020.REF2020.CNSM_NA_'+json_dicts.bldg_class_translator[filter_strings[0]]+'_'+condition_1+'_'+json_dicts.fuel_type_translator[filter_strings[1]]+'_'+condition_2+'_USA_QBTU.A'\n",
    "    ## De-bugging purposes\n",
    "    #print(eia_series_ID)\n",
    "    return (eia_series_ID)"
   ]
  },
  {
   "cell_type": "code",
   "execution_count": null,
   "metadata": {},
   "outputs": [],
   "source": [
    "def data_comparsion(data_dict,filter_strings, np_array):\n",
    "    ## OPERATION:   Data comparsion function attempts to run recursive function \n",
    "    ##              Traverses real data, calls EIA API, with filter strings list comprehension\n",
    "    ##              If succesful, compares energy values from\n",
    "    ##              traversed real data and EIA API\n",
    "    ##              If unsuccessful, has IndexError, prints message\n",
    "\n",
    "\n",
    "    ## Initialize json translators\n",
    "    json_dicts = Useful_json_translators()\n",
    "    ## If no exception occurs, then except is skipped\n",
    "    ## If exception occurs, then rest of try block is skipped\n",
    "    try:\n",
    "        ## call recursive function, get energy values, change filter string to match the fiter string combo you call from recursive\n",
    "        recursive(json_dicts.data_dict, filter_strings, np.zeros(2))\n",
    "        energy_vals = recursive(json_dicts.data_dict, filter_strings, np.zeros(2))\n",
    "\n",
    "        ## Call construct EIA series ID function, if 2 tuples enter, stops here, triggers IndexError\n",
    "        eia_str_series_ID = construct_EIA_series_ID(filter_strings)\n",
    "\n",
    "        ## call EIA API and grab EIA energy values based on years\n",
    "        eia_data_array, eia_data_years = data_processor(api_query(os.environ['EIA_API_KEY'], eia_str_series_ID))\n",
    "        #print(type(eia_data_array))\n",
    "    \n",
    "        ## sum EIA values, compare to json energy value\n",
    "        eia_energy_sum = sum(eia_data_array)\n",
    "        \n",
    "        ## De-bugging purposes\n",
    "        #print(eia_energy_sum)\n",
    "        ## else body runs when if statement is false, but don't need this cause have except block\n",
    "        \n",
    "    ## Only runs if try block is unsuccessful\n",
    "    except IndexError:\n",
    "        print('Incorrect number of index, check:', filter_strings)\n",
    "    except AttributeError:\n",
    "        print('check filter strings list', filter_strings)\n",
    "    except (ValueError, KeyError):\n",
    "        print('Data not present in json, EIA API not accessed. Review filter strings:', filter_strings)\n",
    "    ## Using bare except to catch all errors\n",
    "    #except:\n",
    "        #print('Some other error occurred')\n",
    "    \n",
    "    ## If try block successful, then this runs\n",
    "    else:\n",
    "        return (eia_energy_sum, energy_vals)"
   ]
  },
  {
   "cell_type": "code",
   "execution_count": null,
   "metadata": {},
   "outputs": [],
   "source": [
    "## Current function-\n",
    "def recursive_new(data_dict, filter_strings , energy_vals, position_list=[]):\n",
    "    ## Initialize json translators\n",
    "    json_dicts = Useful_json_translators()\n",
    "    \n",
    "    ## Create a dict for residential and commercial bldg types \n",
    "    ## Check format in EIA for proper syntax matching, \n",
    "    all_bldg_types ={'residential': ['single family home', 'multi family home', 'mobile homes'], \n",
    "    'commercial': ['assembly', 'education', 'food sales','food service', 'health care', 'lodging',\n",
    "    'small office','large office','mercantile/serice', 'warehouse', 'other']}\n",
    "    \n",
    "    for key, value in json_dicts.data_dict.items():\n",
    "        ## if this is true, then keep going traversing through json\n",
    "        if isinstance(value, dict):\n",
    "            try:  \n",
    "                recursive(value, filter_strings , energy_vals, position_list+[key])\n",
    "        \n",
    "        ## if 1st statement false, then.. \n",
    "        elif filter_strings[1] == years_as_keys_list[2] and filter_strings[2] == years_as_keys_list[3] and all_bldg_types[filter_strings[0]] and 'energy' in years_as_keys_list:\n",
    "            ## Sort by keys in year order and grab values in the order of the years as numpy array\n",
    "            energy_vals+=np.array([json_dicts.data_dict[key] for key,value in sorted(json_dicts.data_dict.items())])\n",
    "            ## De-bugging purposes\n",
    "            #print(type(energy_vals))\n",
    "            \n",
    "            ## Store each year as a list\n",
    "            years_as_keys_list = (position_list+[key])\n",
    "            \n",
    "            ## Convert list into numpy array\n",
    "            years_as_keys_array = np.array(years_as_keys_list)\n",
    "\n",
    "             \n",
    "            \n",
    "\n",
    "    return (energy_vals)\n"
   ]
  },
  {
   "cell_type": "code",
   "execution_count": null,
   "metadata": {},
   "outputs": [],
   "source": [
    "## New function\n",
    "\n",
    "def recursive_new(data_dict, filter_strings , energy_vals, position_list=[]):\n",
    "    for key, value in json_dicts.data_dict.items():\n",
    "        if isinstance(value, dict):\n",
    "            try:\n",
    "                recursive(value, filter_strings , energy_vals, position_list+[key])\n",
    "        \n",
    "                ## Store each year as a list\n",
    "                years_as_keys_list = (position_list+[key])\n",
    "                #print(years_as_keys_list)\n",
    "\n",
    "                ## Convert list into numpy array\n",
    "                years_as_keys_array = np.array(years_as_keys_list)\n",
    "\n",
    "                ## Create a dict for residential and commercial bldg types \n",
    "                ## Check format in EIA for proper syntax matching, \n",
    "                all_bldg_types ={'residential': ['single family home', 'multi family home', 'mobile homes'], \n",
    "                'commercial': ['assembly', 'education', 'food sales','food service', 'health care', 'lodging',\n",
    "                'small office','large office','mercantile/serice', 'warehouse', 'other']}\n",
    "\n",
    "                if filter_strings[1] == years_as_keys_list[2] and filter_strings[2] == years_as_keys_list[3] and all_bldg_types[filter_strings[0]] and 'energy' in years_as_keys_list:\n",
    "                    ## Sort by keys in year order and grab values in the order of the years as numpy array\n",
    "                    energy_vals+=np.array([json_dicts.data_dict[key] for key,value in sorted(json_dicts.data_dict.items())]\n",
    "            except:\n",
    "                print('Error occurred')\n",
    "            \n",
    "\n",
    "    return (energy_vals)"
   ]
  },
  {
   "cell_type": "code",
   "execution_count": null,
   "metadata": {},
   "outputs": [],
   "source": [
    "## Break into pieces to test\n",
    "filter_strings = ['residential', 'refrigeration']\n",
    "\n",
    "for key, value in json_dicts.data_dict.items():\n",
    "    if isinstance(value, dict):  \n",
    "        recursive(value, filter_strings , energy_vals, position_list+[key]) \n",
    "    else:\n",
    "        years_as_keys_list = (position_list+[key])\n",
    "        \n",
    "        ## Create a dict for residential and commercial bldg types \n",
    "        ## Check format in EIA for proper syntax matching, \n",
    "        all_bldg_types ={'residential': ['single family home', 'multi family home', 'mobile homes'], \n",
    "        'commercial': ['assembly', 'education', 'food sales','food service', 'health care', 'lodging',\n",
    "        'small office','large office','mercantile/serice', 'warehouse', 'other']}\n",
    "\n",
    "        if filter_strings[1] == years_as_keys_list[2] and filter_strings[2] == years_as_keys_list[3] and all_bldg_types[filter_strings[0]] and 'energy' in years_as_keys_list:\n",
    "            ## Sort by keys in year order and grab values in the order of the years as numpy array\n",
    "            energy_vals+=np.array([data_dict[key] for key,value in sorted(data_dict.items())])\n",
    "            print(energy_vals)"
   ]
  },
  {
   "cell_type": "code",
   "execution_count": null,
   "metadata": {},
   "outputs": [],
   "source": [
    "## Current function-9/22/20\n",
    "def data_comparsion(data_dict,filter_strings, np_array):\n",
    "    ## Initialize json translators\n",
    "    json_dicts = Useful_json_translators()\n",
    "    ## If no exception occurs, then except is skipped\n",
    "    ## If exception occurs, then rest of try block is skipped\n",
    "    try:\n",
    "        ## call recursive function, get energy values, change filter string to match the fiter string combo you call from recursive\n",
    "        recursive(json_dicts.data_dict, filter_strings, np.zeros(2))\n",
    "        energy_vals = recursive(json_dicts.data_dict, filter_strings, np.zeros(2))\n",
    "\n",
    "        ## Call construct EIA series ID function\n",
    "        eia_str_series_ID = construct_EIA_series_ID(filter_strings)\n",
    "\n",
    "        ## call EIA API and grab EIA energy values based on years\n",
    "        eia_data_array, eia_data_years = data_processor(api_query(os.environ['EIA_API_KEY'], eia_str_series_ID))\n",
    "        #print(type(eia_data_array))\n",
    "    \n",
    "        ## sum EIA values, compare to json energy value\n",
    "        eia_energy_sum = sum(eia_data_array)\n",
    "        \n",
    "        ## De-bugging purposes\n",
    "        #print(eia_energy_sum)\n",
    "        ## else body runs when if statement is false, but don't need this cause have except block\n",
    "        \n",
    "    ## Only runs if try block is unsuccessful\n",
    "    except IndexError:\n",
    "        print('Incorrect number of index, check:', filter_strings)\n",
    "    except AttributeError:\n",
    "        print('check filter strings list', filter_strings)\n",
    "    except (ValueError, KeyError):\n",
    "        print('Data not present in json, EIA API not accessed. Review filter strings:', filter_strings)\n",
    "    ## Using bare except to catch all errors\n",
    "    #except:\n",
    "        #print('Some other error occurred')\n",
    "    \n",
    "    ## If try block successful, then this runs\n",
    "    else:\n",
    "        return (eia_energy_sum, energy_vals)"
   ]
  },
  {
   "cell_type": "code",
   "execution_count": null,
   "metadata": {},
   "outputs": [],
   "source": [
    "## Testing test I wrote for except block, what happens when input 2 tuples, \n",
    "## Should trigger an IndexError\n",
    "\n",
    "# Purposely input only bldg class and end use for input into\n",
    "# recursive function to trigger exception\n",
    "filter_str_exception = ['residential','refrigeration']\n",
    "\n",
    "recursive(json_dicts.data_dict, filter_str_exception, np.zeros(2))"
   ]
  },
  {
   "cell_type": "code",
   "execution_count": null,
   "metadata": {},
   "outputs": [],
   "source": [
    "def construct_EIA_series_ID(filter_strings):\n",
    "    ## Initialize json translators\n",
    "    json_dicts = Useful_json_translators()\n",
    "\n",
    "    ## this statement will run if outcome is true\n",
    "    if filter_strings[0] == 'residential':\n",
    "        condition_1 = json_dicts.end_use_translator[filter_strings[2]]\n",
    "        condition_2 = 'NA'\n",
    "\n",
    "    ## Will run when 1st if block is false\n",
    "    elif filter_strings[0] == 'commercial':\n",
    "        condition_1 = 'NA'\n",
    "        condition_2 = json_dicts.end_use_translator[filter_strings[2]]\n",
    "\n",
    "    ## EIA series ID string\n",
    "    eia_series_ID = 'AEO.2020.REF2020.CNSM_NA_'+json_dicts.bldg_class_translator[filter_strings[0]]+'_'+condition_1+'_'+json_dicts.fuel_type_translator[filter_strings[1]]+'_'+condition_2+'_USA_QBTU.A'\n",
    "    print(eia_series_ID)"
   ]
  },
  {
   "cell_type": "code",
   "execution_count": null,
   "metadata": {},
   "outputs": [],
   "source": [
    "## What happens when inserts a 2 tuple for filter strings, instead 3\n",
    "eia_str_series_ID = construct_EIA_series_ID(filter_str_exception)"
   ]
  },
  {
   "cell_type": "code",
   "execution_count": null,
   "metadata": {},
   "outputs": [],
   "source": [
    "## Call data comparsion with 2 tuples\n",
    "data_comparsion(json_dicts.data_dict, filter_str_exception, (np.zeros(2), np.zeros(2)))    "
   ]
  },
  {
   "cell_type": "code",
   "execution_count": null,
   "metadata": {},
   "outputs": [],
   "source": [
    "## Break test into pieces\n",
    "filter_str_exception = ['residential','refrigeration']\n",
    "\n",
    "mock_print = baseline_calculator_code_2a.data_comparsion(json_dicts.data_dict, filter_str_exception, (np.zeros(2), np.zeros(2)))\n",
    "## De-bugging purposes\n",
    "#print(mock_print)\n",
    "\n"
   ]
  },
  {
   "cell_type": "code",
   "execution_count": null,
   "metadata": {},
   "outputs": [],
   "source": [
    "## Testing construct EIA_series_ID function\n",
    "filter_strings = ['commercial', 'natural gas', 'cooking']\n",
    "expected_outcome = 'AEO.2020.REF2020.CNSM_NA_COMM_NA_NG_CGR_USA_QBTU.A'\n",
    "\n",
    "#condition_1 = 'NA'\n",
    "#condition_2 = json_dicts.end_use_translator[filter_strings[2]]\n",
    "    \n",
    "\n",
    "eia_str_test = construct_EIA_series_ID(filter_strings)"
   ]
  },
  {
   "cell_type": "code",
   "execution_count": null,
   "metadata": {},
   "outputs": [],
   "source": [
    "## Function to call EIA API\n",
    "def api_query(api_key, series_id):\n",
    "    \"\"\"Execute an EIA API query and extract the data returned\n",
    "\n",
    "    Execute a query of the EIA API and extract the data from the\n",
    "    structure returned by the API.\n",
    "\n",
    "    Args:\n",
    "        api_key (str): EIA API key.\n",
    "        series_id (str): Identifying string for a specific data series.\n",
    "\n",
    "    Returns:\n",
    "        A nested list of data with inner lists structured as\n",
    "        [year string, data value].\n",
    "    \"\"\"\n",
    "    query_str = ('http://api.eia.gov/series/?api_key='+ api_key +\n",
    "                 '&series_id=' + series_id)\n",
    "    data = requests.get(query_str).json()\n",
    "    try:\n",
    "        data = data['series'][0]['data']\n",
    "    # If an invalid series_id is used, the 'series' key will not be present\n",
    "    except KeyError:\n",
    "        print('\\nSeries ID not available from API: ' + series_id)\n",
    "    return data\n",
    "\n",
    "\n"
   ]
  },
  {
   "cell_type": "code",
   "execution_count": null,
   "metadata": {},
   "outputs": [],
   "source": [
    "## Format data received by EIA API\n",
    "def data_processor(data):\n",
    "    \"\"\"Restructure the data obtained from the API into numpy arrays\n",
    "\n",
    "    Args:\n",
    "        data (list): A list of data, with each value a list where\n",
    "            the first value is the year as a string and the second\n",
    "            value is the number for that year for the data requested.\n",
    "\n",
    "    Returns:\n",
    "        Two numpy arrays, one containing the data and one containing\n",
    "        the years corresponding to those data. Both arrays are sorted\n",
    "        according to ascending year order.\n",
    "    \"\"\"\n",
    "    years, data = zip(*data)\n",
    "    years = np.array(years)\n",
    "    data = np.array(data)[years.argsort()]  # Re-sort in ascending year order\n",
    "    years = years[years.argsort()]  # Re-sort to be in ascending year order\n",
    "    return data, years"
   ]
  },
  {
   "cell_type": "code",
   "execution_count": null,
   "metadata": {},
   "outputs": [],
   "source": [
    "## LATEST -8/17 Recursive function\n",
    "def recursive(data_dict, filter_strings , energy_vals, position_list=[]):\n",
    "    #with open('test_json_traverse.json') as f:\n",
    "        #data_dict = json.load(f)\n",
    "\n",
    "    for key, value in data_dict.items():\n",
    "        if isinstance(value, dict):  \n",
    "            recursive(value, filter_strings , energy_vals, position_list+[key]) \n",
    "            \n",
    "        else:\n",
    "        ## At the endpoint/leaf node, use relevant fuel type and end use combination to filter neccessary energy values, aggregate energy value by year\n",
    "            \n",
    "            ## Store each year as a list\n",
    "            years_as_keys_list = (position_list+[key])\n",
    "            #print(years_as_keys_list)\n",
    "            \n",
    "            ## Convert list into numpy array\n",
    "            years_as_keys_array = np.array(years_as_keys_list)\n",
    "\n",
    "            ## Create a dict for residential and commercial bldg types \n",
    "            ## Check format in EIA for proper syntax matching, \n",
    "            all_bldg_types ={'residential': ['single family home', 'multi family home', 'mobile homes'], \n",
    "            'commercial': ['assembly', 'education', 'food sales','food service', 'health care', 'lodging',\n",
    "            'small office','large office','mercantile/serice', 'warehouse', 'other']}\n",
    "            \n",
    "            if filter_strings[1] == years_as_keys_list[2] and filter_strings[2] == years_as_keys_list[3] and all_bldg_types[filter_strings[0]] and 'energy' in years_as_keys_list:\n",
    "            #if filter_strings[1] and filter_strings[2] and all_bldg_types[filter_strings[0]] and 'energy' in years_as_keys_list:\n",
    "                ## Sort by keys in year order and grab values in the order of the years as numpy array\n",
    "                energy_vals+=np.array([data_dict[key] for key,value in sorted(data_dict.items())])\n",
    "                ## De-bugging purposes\n",
    "                #print(years_as_keys_list)\n",
    "                #print(energy_vals)\n",
    "\n",
    "    return (energy_vals)"
   ]
  },
  {
   "cell_type": "code",
   "execution_count": null,
   "metadata": {},
   "outputs": [],
   "source": [
    "def data_comparsion_now(data_dict,filter_strings, np_array):\n",
    "    ## Initialize json translators\n",
    "    json_dicts = Useful_json_translators()\n",
    "    \n",
    "    try:\n",
    "        # call recursive function, get energy values, change filter string to match the fiter string combo you call from recursive\n",
    "        recursive(json_dicts.data_dict, filter_strings, np.zeros(2))\n",
    "        energy_vals = recursive(json_dicts.data_dict, filter_strings, np.zeros(2))\n",
    "        \n",
    "        ## this statement will run if outcome is true\n",
    "        if filter_strings[0] == 'residential':\n",
    "            condition_1 = json_dicts.end_use_translator[filter_strings[2]]\n",
    "            condition_2 = 'NA'\n",
    "        \n",
    "        ## Will run when 1st if block is false\n",
    "        elif filter_strings[0] == 'commercial':\n",
    "            condition_1 = 'NA'\n",
    "            condition_2 = json_dicts.end_use_translator[filter_strings[2]]\n",
    "\n",
    "        ## EIA series ID string\n",
    "        eia_series_ID = 'AEO.2020.REF2020.CNSM_NA_'+json_dicts.bldg_class_translator[filter_strings[0]]+'_'+condition_1+'_'+json_dicts.fuel_type_translator[filter_strings[1]]+'_'+condition_2+'_USA_QBTU.A'\n",
    "        \n",
    "        ## call EIA API and grab EIA energy values based on years\n",
    "        eia_data_array, eia_data_years = data_processor(api_query(os.environ['EIA_API_KEY'], eia_series_ID))\n",
    "        #print(type(eia_data_array))\n",
    "        \n",
    "        ## sum EIA values, compare to json energy value\n",
    "        eia_energy_sum = sum(eia_data_array)\n",
    "        \n",
    "        ## De-bugging purposes\n",
    "        #print(eia_energy_sum)\n",
    "        ## else body runs when if statement is false, but don't need this cause have except block\n",
    "        \n",
    "    ## Only runs if try block is unsuccessful\n",
    "    except IndexError:\n",
    "        print('filter strings list index out of range')\n",
    "    except AttributeError:\n",
    "        print('check filter strings list')\n",
    "    except KeyError:\n",
    "        print('Series ID not available on EIA API')\n",
    "    ## Using bare except to catch all errors\n",
    "    except:\n",
    "        print('Some other error occurred')\n",
    "    \n",
    "    ## If try block successful, then this runs\n",
    "    else:\n",
    "        return (eia_energy_sum, energy_vals)"
   ]
  },
  {
   "cell_type": "code",
   "execution_count": null,
   "metadata": {},
   "outputs": [],
   "source": [
    "## Testing new modified/simplified data comparsion fun - 9/21/20\n",
    "#filter_strings = ['residential','electricity', 'refrigeration']\n",
    "filter_strings =['commercial', 'natural gas', 'cooking']\n",
    "\n",
    "test = data_comparsion_now(json_dicts.data_dict, filter_strings, (np.zeros(2), np.zeros(2)))\n",
    "print(test)"
   ]
  },
  {
   "cell_type": "code",
   "execution_count": null,
   "metadata": {},
   "outputs": [],
   "source": [
    "## Using data comparsion function that works \n",
    "def data_comparsion_1(data_dict,filter_strings, np_array):\n",
    "    ## Initialize json translators\n",
    "    json_dicts = Useful_json_translators()\n",
    "    \n",
    "    try:\n",
    "        # call recursive function, get energy values, change filter string to match the fiter string combo you call from recursive\n",
    "        recursive(json_dicts.data_dict, filter_strings, np.zeros(2))\n",
    "        energy_vals = recursive(json_dicts.data_dict, filter_strings, np.zeros(2))\n",
    "\n",
    "    ## Only runs if try block is unsuccessful\n",
    "    except IndexError:\n",
    "        print('filter strings list index out of range')\n",
    "    except AttributeError:\n",
    "        print(\" 'NoneType' object has no attribute 'mock_calls' \")\n",
    "    ## Using bare except to catch all errors\n",
    "    except:\n",
    "        print('Some other error occurred')\n",
    "\n",
    "    ## If try block successful, then this runs\n",
    "    else:\n",
    "        ## Constructed EIA API series ID string if residential building\n",
    "        if filter_strings[0] == 'residential':\n",
    "            condition_1 = json_dicts.end_use_translator[filter_strings[2]]\n",
    "            condition_2 = 'NA'\n",
    "\n",
    "            ## EIA series ID string\n",
    "            eia_series_ID = 'AEO.2020.REF2020.CNSM_NA_'+json_dicts.bldg_class_translator[filter_strings[0]]+'_'+condition_1+'_'+json_dicts.fuel_type_translator[filter_strings[1]]+'_'+condition_2+'_USA_QBTU.A'\n",
    "\n",
    "            ## call EIA API and grab EIA energy values based on years\n",
    "            eia_data_array, eia_data_years = data_processor(api_query(os.environ['EIA_API_KEY'], eia_series_ID))\n",
    "            #print(type(eia_data_array))\n",
    "\n",
    "            ## sum EIA values, compare to json energy value\n",
    "            eia_energy_sum = sum(eia_data_array)\n",
    "\n",
    "        # Constructed EIA API series ID string if commercial building\n",
    "        if filter_strings[0] == 'commercial':\n",
    "            condition_1 = 'NA'\n",
    "            condition_2 = json_dicts.end_use_translator[filter_strings[2]]\n",
    "\n",
    "            ## EIA series ID string\n",
    "            eia_series_ID = 'AEO.2020.REF2020.CNSM_NA_'+json_dicts.bldg_class_translator[filter_strings[0]]+'_'+condition_1+'_'+json_dicts.fuel_type_translator[filter_strings[1]]+'_'+condition_2+'_USA_QBTU.A'\n",
    "\n",
    "            ## call EIA API and grab EIA energy values based on years\n",
    "            eia_data_array, eia_data_years = data_processor(api_query(os.environ['EIA_API_KEY'], eia_series_ID))\n",
    "            #print(type(eia_data_array))\n",
    "\n",
    "            ## sum EIA values, compare to json energy value\n",
    "            eia_energy_sum = sum(eia_data_array)\n",
    "\n",
    "        return (eia_energy_sum, energy_vals)\n",
    "            "
   ]
  },
  {
   "cell_type": "code",
   "execution_count": null,
   "metadata": {},
   "outputs": [],
   "source": [
    "## TESTING: Call data comparsion function with two tuples and see if I get index error\n",
    "##data_comparsion_1 is currently working\n",
    "filter_strings = ['residential','electricity', 'refrigeration']\n",
    "#filter_strings =['commercial', 'natural gas', 'cooking']\n",
    "\n",
    "json_dicts = Useful_json_translators()\n",
    "\n",
    "test_1 = data_comparsion_1(json_dicts.data_dict,filter_strings, (np.zeros(2), np.zeros(2)))\n",
    "print(test_1)\n"
   ]
  },
  {
   "cell_type": "code",
   "execution_count": null,
   "metadata": {},
   "outputs": [],
   "source": [
    "## Testing logic for series ID\n",
    "\n",
    "json_dicts = Useful_json_translators()\n",
    "\n",
    "filter_strings =['commercial', 'natural gas', 'cooking']\n",
    "#filter_strings = ['residential','electricity', 'refrigeration']\n",
    "\n",
    "## call recursive function, get energy values, change filter string to match the fiter string combo you call from recursive\n",
    "recursive(json_dicts.data_dict, filter_strings, np.zeros(2))\n",
    "energy_vals = recursive(json_dicts.data_dict, filter_strings, np.zeros(2))\n",
    "\n",
    "## this statement will run if outcome is true\n",
    "if filter_strings[0] == 'residential':\n",
    "    condition_1 = json_dicts.end_use_translator[filter_strings[2]]\n",
    "    condition_2 = 'NA'\n",
    "\n",
    "## Will run when 1st if block is false\n",
    "elif filter_strings[0] == 'commercial':\n",
    "    condition_1 = 'NA'\n",
    "    condition_2 = json_dicts.end_use_translator[filter_strings[2]]\n",
    "\n",
    "## EIA series ID string\n",
    "eia_series_ID = 'AEO.2020.REF2020.CNSM_NA_'+json_dicts.bldg_class_translator[filter_strings[0]]+'_'+condition_1+'_'+json_dicts.fuel_type_translator[filter_strings[1]]+'_'+condition_2+'_USA_QBTU.A'\n",
    "\n",
    "## call EIA API and grab EIA energy values based on years\n",
    "eia_data_array, eia_data_years = data_processor(api_query(os.environ['EIA_API_KEY'], eia_series_ID))\n",
    "#print(type(eia_data_array))\n",
    "\n",
    "## sum EIA values, compare to json energy value\n",
    "eia_energy_sum = sum(eia_data_array)\n",
    "print(eia_energy_sum)\n",
    "\n"
   ]
  },
  {
   "cell_type": "code",
   "execution_count": null,
   "metadata": {},
   "outputs": [],
   "source": [
    "filter_strings = ['residential','electricity', 'refrigeration']\n",
    "#filter_strings =['commercial', 'natural gas', 'cooking']\n",
    "\n",
    "json_dicts = Useful_json_translators()\n",
    "\n",
    "test_2 = data_comparsion_1(json_dicts.data_dict,filter_strings, (np.zeros(2), np.zeros(2)))\n",
    "print(test_2)\n",
    "\n"
   ]
  },
  {
   "cell_type": "code",
   "execution_count": null,
   "metadata": {},
   "outputs": [],
   "source": []
  },
  {
   "cell_type": "code",
   "execution_count": null,
   "metadata": {},
   "outputs": [],
   "source": [
    "class test_data_comparsion_expect_block(unittest.TestCase):\n",
    "    # Purposely input only bldg class and end use for input into\n",
    "    # recursive function to trigger exception\n",
    "    filter_str_exception = ['residential','refrigeration']\n",
    "\n",
    "    # Text expected to be printed to the stdout by the except block\n",
    "    expected_except_print = ('list index out of range' )\n",
    "\n",
    "    @patch('builtins.print')\n",
    "    def test_except_print(self, mock_print):\n",
    "        json_dicts = Useful_json_translators()\n",
    "\n",
    "        mock_print = baseline_calculator_code_2a.data_comparsion(\n",
    "            json_dicts.data_dict, self.filter_str_exception, np.zeros(2))\n",
    "\n",
    "        ## De-bugging purposes\n",
    "        print(mock_print)\n"
   ]
  },
  {
   "cell_type": "code",
   "execution_count": null,
   "metadata": {},
   "outputs": [],
   "source": [
    "@patch('builtins.print')\n",
    "def test_except_print(self, mock_print):\n",
    "    json_dicts = Useful_json_translators()\n",
    "    filter_str_exception = ['residential','refrigeration']\n",
    "    \n",
    "    mock_print = baseline_calculator_code_2a.data_comparsion(\n",
    "        json_dicts.data_dict, filter_str_exception, np.zeros(2))\n",
    "\n",
    "    ## De-bugging purposes\n",
    "    print(mock_print)\n",
    "\n"
   ]
  },
  {
   "cell_type": "code",
   "execution_count": null,
   "metadata": {},
   "outputs": [],
   "source": []
  },
  {
   "cell_type": "code",
   "execution_count": null,
   "metadata": {},
   "outputs": [],
   "source": [
    "def data_comparsion(data_dict,filter_strings, np_array):\n",
    "     def __init__(self):\n",
    "        ## Matches data in json file for Scout, fix format error\n",
    "        self.json_data_translator_dict = {'residential': ['single family home', 'multi family home', 'mobile homes'],\n",
    "                                 'electricity': ['heating','secondary heating' ,'cooling' ,'cooking','computers',\n",
    "                                                 'drying','lighting', 'refrigeration','ceiling fan','fans and pumps',\n",
    "                                                 'water heating','other', 'all'],\n",
    "                                 'natural gas': ['heating','secondary heating', 'cooling', 'cooking', 'drying',\n",
    "                                                 'water heating','other', 'all'],\n",
    "                                 'distillate': ['heating', 'secondary heating', 'water heating', 'other', 'all'],\n",
    "                                 'other fuel': ['heating', 'secondary heating','water heating', 'cooking', 'drying',\n",
    "                                               'other', 'all'],\n",
    "                                 'commercial': ['assembly', 'education', 'food sales','food service', 'health care',\n",
    "                                                'lodging','small office','large office','mercantile/serice',\n",
    "                                                'warehouse', 'other'], \n",
    "                                 'electricity': ['heating', 'cooling', 'ventilation', 'water heating','lighting',\n",
    "                                                'refrigeration', 'cooking','PCs', 'non-PC office equipment', 'MELs','all'],\n",
    "                                 'natural gas':['heating', 'cooling', 'water heating', 'cooking', 'all'],\n",
    "                                 'distillate': ['heating', 'water heating', 'all']}\n",
    "\n",
    "        ## Dict translators for building class, end use, and fuel type found on in the EIA data\n",
    "        # Dict of building class\n",
    "        self.bldg_class_translator = {'residential': 'RESD', 'commercial': 'COMM'}\n",
    "\n",
    "        #Dict of end uses\n",
    "        self.end_use_translator = {'clothes washers': 'CLW', 'clothes dryers': 'CDR', 'computers': 'CMPR', 'cooking': 'CGR', 'computing': 'OTHEQPPC' ,\n",
    "        'delivered energy':'DELE', 'dishwashers': 'DSW', 'fans and pumps': 'FPR', 'freezers': 'FRZ', 'lighting': 'LGHTNG', 'office equipment': 'OTHEQPNPC',\n",
    "        'other uses': 'OTHU','refrigeration': 'REFR', 'cooling': 'SPC', 'heating': 'SPH', 'TVs': 'TVR', 'ventilation': 'VNTC', 'water Heating': 'WTHT' }\n",
    "\n",
    "        #Dict of fuel type, electricity is residential\n",
    "        # purchased electricity is for commercial\n",
    "        self.fuel_type_translator = {'electricity': 'ELC', 'Purchased Electricity': 'PRC', 'natural gas': 'NG'}\n",
    "\n",
    "        ## Read in test data\n",
    "        with open('test_json_traverse.json') as f:\n",
    "            self.data_dict = json.load(f)\n",
    "\n",
    "        try:\n",
    "            #with open('supporting_data/stock_energy_tech_data/mseg_res_com_cz.json') as f:\n",
    "                #data_dict = json.load(f)\n",
    "                # call recursive function, get energy values, change filter string to match the fiter string combo you call from recursive\n",
    "                recursive(self.data_dict, filter_strings, np.zeros(2))\n",
    "                energy_vals = recursive(self.data_dict, filter_strings, np.zeros(2))\n",
    "\n",
    "                ## Constructed EIA API series ID string if residential building\n",
    "                if filter_strings[0] == 'residential':\n",
    "                    condiiton_1 = self.end_use_translator[filter_strings[2]]\n",
    "                    condition_2 = 'NA'\n",
    "\n",
    "                    ## EIA series ID string\n",
    "                    eia_series_ID = 'AEO.2020.REF2020.CNSM_NA_'+self.bldg_class_translator[filter_strings[0]]+'_'+condition_1+'_'+self.fuel_type_translator[filter_strings[1]]+'_'+condition_2+'_USA_QBTU.A'\n",
    "\n",
    "                    ## call EIA API and grab EIA energy values based on years\n",
    "                    eia_data_array, eia_data_years = data_processor(api_query(os.environ['EIA_API_KEY'], eia_series_ID))\n",
    "\n",
    "                    ## sum EIA values, compare to json energy value\n",
    "                    eia_energy_sum = sum(eia_data_array)\n",
    "                return eia_data_array, energy_vals\n",
    "\n",
    "                # Constructed EIA API series ID string if commercial building\n",
    "                if filter_strings[0] == 'commercial':\n",
    "                    condiiton_1 = 'NA'\n",
    "                    condition_2 = self.end_use_translator[filter_strings[2]]\n",
    "\n",
    "                    ## Constructed EIA series ID string\n",
    "                    eia_series_ID = 'AEO.2020.REF2020.CNSM_NA_'+self.bldg_class_translator[filter_strings[0]]+'_'+condition_1+'_'+self.fuel_type_translator[filter_strings[1]]+'_'+condition_2+'_USA_QBTU.A'\n",
    "\n",
    "                    ## call EIA API and grab EIA energy values based on years\n",
    "                    eia_data_array, eia_data_years = data_processor(api_query(os.environ['EIA_API_KEY'], eia_series_ID))\n",
    "                    #print(type(eia_data_array))\n",
    "                    \n",
    "                    ## sum EIA values, compare to json energy value\n",
    "                    eia_energy_sum = sum(eia_data_array)\n",
    "                    #return eia_data_array, energy_vals\n",
    "\n",
    "        ## Only runs if try block is unsuccessful\n",
    "        except IndexError:\n",
    "            print('filter strings list index out of range')\n",
    "        except AttributeError:\n",
    "            print(\" 'NoneType' object has no attribute 'mock_calls' \")\n",
    "        ## Using bare except to catch all errors\n",
    "        except:\n",
    "            print('Some other error occurred')\n"
   ]
  },
  {
   "cell_type": "code",
   "execution_count": null,
   "metadata": {},
   "outputs": [],
   "source": [
    "filter_strings = ['residential','electricity', 'refrigeration']\n",
    "with open('test_json_traverse.json') as f:\n",
    "    data_dict = json.load(f)"
   ]
  },
  {
   "cell_type": "code",
   "execution_count": null,
   "metadata": {},
   "outputs": [],
   "source": [
    "test_2 = data_comparsion(data_dict, filter_strings, (np.zeros(2), np.zeros(2)))\n",
    "print(test_2)"
   ]
  },
  {
   "cell_type": "code",
   "execution_count": null,
   "metadata": {},
   "outputs": [],
   "source": [
    "## This is the real data, possibly issue why I am getting NONE, \n",
    "## maybe the filter string combo I am testing doesn't exist in the real data\n",
    "\n",
    "#with open('supporting_data/stock_energy_tech_data/mseg_res_com_cz.json') as f:\n",
    "    #data_dict = json.load(f)\n",
    "        \n",
    "## Try with test data and see what result is, if this doesn't fix the problem\n",
    "with open('test_json_traverse.json') as f:\n",
    "    data_dict = json.load(f)\n",
    "    \n",
    "## THen try patching in test data while keeping real data in code\n",
    "## Make sure the patch return value is ... a value from the test file"
   ]
  },
  {
   "cell_type": "code",
   "execution_count": null,
   "metadata": {},
   "outputs": [],
   "source": [
    "filter_strings = ['residential','refrigeration', 'electricity']\n",
    "test = baseline_calculator_code_2a.data_comparsion(data_dict, filter_strings, (np.zeros(2), np.zeros(2)))\n",
    "print(test)\n"
   ]
  },
  {
   "cell_type": "code",
   "execution_count": null,
   "metadata": {},
   "outputs": [],
   "source": []
  },
  {
   "cell_type": "code",
   "execution_count": null,
   "metadata": {},
   "outputs": [],
   "source": []
  },
  {
   "cell_type": "code",
   "execution_count": null,
   "metadata": {},
   "outputs": [],
   "source": []
  },
  {
   "cell_type": "code",
   "execution_count": null,
   "metadata": {},
   "outputs": [],
   "source": []
  },
  {
   "cell_type": "code",
   "execution_count": null,
   "metadata": {},
   "outputs": [],
   "source": []
  },
  {
   "cell_type": "code",
   "execution_count": null,
   "metadata": {},
   "outputs": [],
   "source": []
  },
  {
   "cell_type": "code",
   "execution_count": null,
   "metadata": {},
   "outputs": [],
   "source": [
    "## Testing -9/15\n",
    "class Useful_json_translators(object):\n",
    "    def __init__(self):\n",
    "        ## Dict translators for building class, end use, and fuel type found on in the EIA data\n",
    "        # Dict of building class\n",
    "        self.bldg_class_translator = {'residential': 'RESD', 'commercial': 'COMM'}\n",
    "\n",
    "        #Dict of end uses\n",
    "        self.end_use_translator = {'clothes washers': 'CLW', 'clothes dryers': 'CDR', 'computers': 'CMPR', 'cooking': 'CGR', 'computing': 'OTHEQPPC' ,\n",
    "        'delivered energy':'DELE', 'dishwashers': 'DSW', 'fans and pumps': 'FPR', 'freezers': 'FRZ', 'lighting': 'LGHTNG', 'office equipment': 'OTHEQPNPC',\n",
    "        'other uses': 'OTHU','refrigeration': 'REFR', 'cooling': 'SPC', 'heating': 'SPH', 'TVs': 'TVR', 'ventilation': 'VNTC', 'water Heating': 'WTHT' }\n",
    "        \n",
    "        #Dict of fuel type, electricity is residential\n",
    "        # purchased electricity is for commercial\n",
    "        self.fuel_type_translator = {'electricity': 'ELC', 'Purchased Electricity': 'PRC', 'natural gas': 'NG'}\n"
   ]
  },
  {
   "cell_type": "code",
   "execution_count": null,
   "metadata": {},
   "outputs": [],
   "source": [
    "class test_differ_EIA_series_IDs(unittest.TestCase):\n",
    "    ## Test different bldg class and fuel type, same end use\n",
    "    ## Currently, testing: commercial and residential cooking and space heating\n",
    "\n",
    "    ## Commercial cooking series name and expected series id, natural gas\n",
    "    comm_cook_series_name = ['commercial', 'natural gas', 'cooking']\n",
    "    expected_comm_cook_series_id = 'AEO.2020.REF2020.CNSM_NA_COMM_NA_NG_CGR_USA_QBTU.A'\n",
    "\n",
    "    ## Residential cooking series name, electricity\n",
    "    ## https://www.eia.gov/opendata/qb.php?category=3604376&sdid=AEO.2020.REF2020.CNSM_NA_RESD_CGR_ELC_NA_USA_QBTU.A\n",
    "    #resd_cook_series_name = ['residential', 'electricity', 'cooking']\n",
    "    #expected_resd_cook_series_id = 'AEO.2020.REF2020.CNSM_NA_RESD_CGR_ELC_NA_USA_QBTU.A'\n",
    "\n",
    "    ## Commercial heating series name and expected series id, electricity\n",
    "    #comm_spheat_series_name = ['commercial', 'electricity', 'heating']\n",
    "    #expected_comm_spheat_series_id = 'AEO.2020.REF2020.CNSM_NA_COMM_NA_PRC_SPH_USA_QBTU.A'\n",
    "\n",
    "    ## Residental, eletricity, space heating\n",
    "    ## https://www.eia.gov/opendata/qb.php?category=3604376&sdid=AEO.2020.REF2020.CNSM_HHD_RESD_SPH_ELC_NA_USA_QBTU.A\n",
    "    #resd_spheat_series_name = ['residential', 'electricity', 'heating']\n",
    "    #expected_resd_spheat_series_id = 'AEO.2020.REF2020.CNSM_HHD_RESD_SPH_ELC_NA_USA_QBTU.A'\n",
    "\n",
    "    def test_comm_cooking_str(self):\n",
    "        ## Initialize json translators\n",
    "        json_dicts = Useful_json_translators()\n",
    "\n",
    "        ## Test created series ID, use line 201-202\n",
    "        if self.comm_cook_series_name[0] == 'residential':\n",
    "            condiiton_1 = json_dicts.end_use_translator[self.comm_cook_series_name[2]]\n",
    "            condition_2 = 'NA'\n",
    "            \n",
    "            ## Constructed EIA series ID string\n",
    "            eia_series_ID = 'AEO.2020.REF2020.CNSM_NA_'+json_dicts.bldg_class_translator[self.comm_cook_series_name[0]]\n",
    "            +'_'+condition_1+'_'+json_dicts.fuel_type_translator[self.comm_cook_series_name[1]]+'_'+condition_2+'_USA_QBTU.A'\n",
    "\n",
    "        if self.comm_cook_series_name[0] == 'commercial':\n",
    "            condition_1 = 'NA'\n",
    "            condition_2 = json_dicts.end_use_translator[self.comm_cook_series_name[2]]\n",
    "            \n",
    "            ## Constructed EIA series ID string\n",
    "            eia_series_ID = 'AEO.2020.REF2020.CNSM_NA_'+json_dicts.bldg_class_translator[self.comm_cook_series_name[0]]\n",
    "            +'_'+condition_1+'_'+json_dicts.fuel_type_translator[self.comm_cook_series_name[1]]+'_'+condition_2+'_USA_QBTU.A'\n",
    "\n",
    "        ## Test if the constructed series_id for commercial strings matches expected EIA API\n",
    "        self.assertEqual(eia_series_ID, self.expected_comm_cook_series_id)\n"
   ]
  },
  {
   "cell_type": "code",
   "execution_count": null,
   "metadata": {},
   "outputs": [],
   "source": [
    "## Break up class above to test error\n",
    "comm_cook_series_name = ['commercial', 'natural gas', 'cooking']\n",
    "expected_comm_cook_series_id = 'AEO.2020.REF2020.CNSM_NA_COMM_NA_NG_CGR_USA_QBTU.A'\n",
    "json_dicts = Useful_json_translators()\n"
   ]
  },
  {
   "cell_type": "code",
   "execution_count": null,
   "metadata": {},
   "outputs": [],
   "source": [
    "if comm_cook_series_name[0] == 'commercial':\n",
    "            condition_1 = 'NA'\n",
    "            condition_2 = json_dicts.end_use_translator[comm_cook_series_name[2]]\n",
    "            \n",
    "            ## Constructed EIA series ID string\n",
    "            eia_series_ID = 'AEO.2020.REF2020.CNSM_NA_'+json_dicts.bldg_class_translator[comm_cook_series_name[0]]+'_'+condition_1+'_'+json_dicts.fuel_type_translator[comm_cook_series_name[1]]+'_'+condition_2+'_USA_QBTU.A'\n",
    "\n"
   ]
  },
  {
   "cell_type": "code",
   "execution_count": null,
   "metadata": {},
   "outputs": [],
   "source": [
    "## Testing second error- 9/15\n",
    "## Code from test script\n",
    "filter_str_exception = ['residential','refrigeration', 'electricity']\n",
    "\n",
    "# Text expected to be printed to the stdout by the except block\n",
    "expected_except_print = ('list index out of range' )\n",
    "\n",
    "## Read in test data\n",
    "with open('test_json_traverse.json') as f:\n",
    "    data_dict = json.load(f)\n",
    "\n",
    "    @patch('builtins.print')\n",
    "    def test_except_print(self, mock_print):\n",
    "        mock_print = baseline_calculator_code_2a.data_comparsion(\n",
    "            self.data_dict, self.filter_str_exception, np.zeros(2))\n",
    "\n",
    "        ## De-bugging purposes\n",
    "        print(mock_print)\n",
    "\n",
    "        ## Test that printed output from the except block matches the expected string\n",
    "        ## Only catches raised error if its located inside its corresponding try block\n",
    "        #self.assertEqual(mock_print, self.expected_except_print)\n",
    "            #mock_print.mock_calls[0][1][0], self.expected_except_print)\n",
    "\n"
   ]
  },
  {
   "cell_type": "code",
   "execution_count": null,
   "metadata": {},
   "outputs": [],
   "source": [
    "\n"
   ]
  },
  {
   "cell_type": "code",
   "execution_count": null,
   "metadata": {},
   "outputs": [],
   "source": [
    "filter_str_exception = ['residential', 'electricity']\n",
    "mock_print = baseline_calculator_code_2a.data_comparsion(data_dict, filter_str_exception, np.zeros(2))\n",
    "print(mock_print)\n",
    "\n",
    "\n"
   ]
  },
  {
   "cell_type": "code",
   "execution_count": null,
   "metadata": {},
   "outputs": [],
   "source": [
    "## View for de-bugging\n",
    "eia_base_str"
   ]
  },
  {
   "cell_type": "code",
   "execution_count": null,
   "metadata": {},
   "outputs": [],
   "source": [
    "filter_strings[0]"
   ]
  },
  {
   "cell_type": "code",
   "execution_count": null,
   "metadata": {},
   "outputs": [],
   "source": [
    "## Create two conditions for cooking end use different EIA API series ID\n",
    "## If end use is cooking, then create what is condition 1\n",
    "## Condition 1: EIA series ID for commercial cooking has NA after bldg class and \n",
    "if filter_strings[2] == 'cooking' and filter_strings[0] == 'commercial':\n",
    "    condition_1 ='NA'\n",
    "    condition_2 = end_use_translator[filter_strings[2]]\n",
    "    \n",
    "    ## Want to convert this to generic form, maybe change back to eia_str\n",
    "    eia_base_str = 'AEO.2020.REF2020.CNSM_NA_'+bldg_class_translator[filter_strings[0]]+'_'+condition_1+'_'+fuel_type_translator[filter_strings[1]]+'_'+condition_2+'_USA_QBTU.A'\n",
    "\n",
    "    "
   ]
  },
  {
   "cell_type": "code",
   "execution_count": null,
   "metadata": {},
   "outputs": [],
   "source": [
    "eia_base_str"
   ]
  },
  {
   "cell_type": "code",
   "execution_count": null,
   "metadata": {},
   "outputs": [],
   "source": [
    "## Create second condition statement for cooking end use\n",
    "if filter_strings[2] == 'cooking' and filter_strings[0] == 'residential':\n",
    "    condition_1 = end_use_translator[filter_strings[2]]\n",
    "    condition_2 = 'NA'\n",
    "    \n",
    "    ## \n",
    "    eia_base_str = 'AEO.2020.REF2020.CNSM_NA_'+bldg_class_translator[filter_strings[0]]+'_'+condition_1+'_'+fuel_type_translator[filter_strings[1]]+'_'+condition_2+'_USA_QBTU.A'\n",
    "\n"
   ]
  },
  {
   "cell_type": "code",
   "execution_count": null,
   "metadata": {},
   "outputs": [],
   "source": [
    "## Create EIA series ID condition statement for other residential cases\n",
    "## Same conditions as cooking, do all residential have same arrangement? do all commercial have same arrangement?\n",
    "if filter_strings[0] == 'residential':\n",
    "    condiiton_1 = end_use_translator[filter_strings[2]]\n",
    "    condition_2 = 'NA'"
   ]
  },
  {
   "cell_type": "code",
   "execution_count": null,
   "metadata": {},
   "outputs": [],
   "source": [
    "## Create EIA series ID condition statement for other commercial cases\n",
    "if filter_strings[0] == 'commercial':\n",
    "    condiiton_1 = 'NA'\n",
    "    condition_2 = end_use_translator[filter_strings[2]]"
   ]
  },
  {
   "cell_type": "code",
   "execution_count": null,
   "metadata": {},
   "outputs": [],
   "source": [
    "## Re-create constructed EIA series ID str\n",
    "for bldg in  bldg_class_translator:\n",
    "    if bldg_class_translator[filter_strings[0]] and end_use_translator[filter_strings[2]]:\n",
    "        constructed_eia_series_id+= 'AEO.2020.REF2020.CNSM_NA_'+bldg_class_translator[filter_strings[0]]\n",
    "        \n",
    "        ## De-bugging\n",
    "        print(constructed_eia_series_id)"
   ]
  },
  {
   "cell_type": "code",
   "execution_count": null,
   "metadata": {},
   "outputs": [],
   "source": [
    "## Testing-9/7/20\n",
    "\n",
    "bldg_class_translator = {'residential': 'RESD', 'commercial': 'COMM'}\n",
    "end_use_translator = {'clothes washers': 'CLW', 'clothes dryers': 'CDR', 'computers': 'CMPR', 'cooking': 'CGR', 'computing': 'OTHEQPPC' ,\n",
    "        'delivered energy':'DELE', 'dishwashers': 'DSW', 'fans and pumps': 'FPR', 'freezers': 'FRZ', 'lighting': 'LGHTNG', 'office equipment': 'OTHEQPNPC',\n",
    "        'other uses': 'OTHU','refrigeration': 'REFR', 'cooling': 'SPC', 'heating': 'SPH', 'TVs': 'TVR', 'ventilation': 'VNTC', 'water Heating': 'WTHT' }\n",
    "\n",
    "fuel_type_translator = {'electricity': 'ELC', 'Purchased Electricity': 'PRC', 'natural gas': 'NG'}\n",
    "\n",
    "\n"
   ]
  },
  {
   "cell_type": "code",
   "execution_count": null,
   "metadata": {},
   "outputs": [],
   "source": [
    "filter_strings = ['commercial', 'natural gas', 'cooking']"
   ]
  },
  {
   "cell_type": "code",
   "execution_count": null,
   "metadata": {},
   "outputs": [],
   "source": [
    "## Create base string structure of EIA API series id series\n",
    "\n",
    "condition_1 = 'blank 1'\n",
    "condition_2 = 'blank 2'\n",
    "\n",
    "eia_base_str = 'AEO.2020.REF2020.CNSM_NA_'+bldg_class_translator[filter_strings[0]]+'_'+condition_1+'_'+fuel_type_translator[filter_strings[1]]+'_'+condition_2+'_USA_QBTU.A'\n"
   ]
  },
  {
   "cell_type": "code",
   "execution_count": null,
   "metadata": {},
   "outputs": [],
   "source": [
    "eia_base_str"
   ]
  },
  {
   "cell_type": "code",
   "execution_count": null,
   "metadata": {},
   "outputs": [],
   "source": [
    "### Final observations, difference btwn EIA series ID are based on bldg class\n",
    "## Conditions to construct EIA API series ID should be:\n",
    "if filter_strings[0] == 'residential':\n",
    "    condiiton_1 = end_use_translator[filter_strings[2]]\n",
    "    condition_2 = 'NA'\n",
    "    eia_base_str = 'AEO.2020.REF2020.CNSM_NA_'+bldg_class_translator[filter_strings[0]]+'_'+condition_1+'_'+fuel_type_translator[filter_strings[1]]+'_'+condition_2+'_USA_QBTU.A'\n",
    "    # De-bugging\n",
    "    #print(eia_base_str)"
   ]
  },
  {
   "cell_type": "code",
   "execution_count": null,
   "metadata": {},
   "outputs": [],
   "source": [
    "eia_base_str"
   ]
  },
  {
   "cell_type": "code",
   "execution_count": null,
   "metadata": {},
   "outputs": [],
   "source": [
    "if filter_strings[0] == 'commercial':\n",
    "    condiiton_1 = 'NA'\n",
    "    condition_2 = end_use_translator[filter_strings[2]]\n",
    "    eia_base_str = 'AEO.2020.REF2020.CNSM_NA_'+bldg_class_translator[filter_strings[0]]+'_'+condition_1+'_'+fuel_type_translator[filter_strings[1]]+'_'+condition_2+'_USA_QBTU.A'\n",
    "    # De-bugging\n",
    "    eia_base_str"
   ]
  },
  {
   "cell_type": "code",
   "execution_count": null,
   "metadata": {},
   "outputs": [],
   "source": [
    "eia_base_str"
   ]
  },
  {
   "cell_type": "code",
   "execution_count": null,
   "metadata": {},
   "outputs": [],
   "source": [
    "filter_strings[2] == end_use_translator and filter_strings[1] == fuel_type_translator:\n",
    "constructed_eia_series_id = 'AEO.2020.REF2020.CNSM_NA_'+bldg_class_translator[filter_strings[0]"
   ]
  },
  {
   "cell_type": "code",
   "execution_count": null,
   "metadata": {},
   "outputs": [],
   "source": []
  },
  {
   "cell_type": "code",
   "execution_count": null,
   "metadata": {},
   "outputs": [],
   "source": []
  },
  {
   "cell_type": "code",
   "execution_count": null,
   "metadata": {},
   "outputs": [],
   "source": []
  },
  {
   "cell_type": "code",
   "execution_count": null,
   "metadata": {},
   "outputs": [],
   "source": []
  },
  {
   "cell_type": "code",
   "execution_count": null,
   "metadata": {},
   "outputs": [],
   "source": []
  },
  {
   "cell_type": "code",
   "execution_count": null,
   "metadata": {},
   "outputs": [],
   "source": []
  },
  {
   "cell_type": "code",
   "execution_count": null,
   "metadata": {},
   "outputs": [],
   "source": [
    "# Converts dict to JSON string\n",
    "test_data = json.dumps(test_data_dict, indent = 2)\n",
    "\n",
    "## Outputs test data as a dict\n",
    "#print(test_data_dict,type(test_data_dict))"
   ]
  },
  {
   "cell_type": "code",
   "execution_count": null,
   "metadata": {},
   "outputs": [],
   "source": [
    "# Converts dict to list\n",
    "#new_test_data = list(test_data_dict)"
   ]
  },
  {
   "cell_type": "code",
   "execution_count": null,
   "metadata": {},
   "outputs": [],
   "source": [
    "class useful_variables(object):\n",
    "    def __init__(self):\n",
    "        \n",
    "        ## Matches data in json file for Scout, fix format error\n",
    "        self.json_data_translator_dict = {'residential': ['single family home', 'multi family home', 'mobile homes'],\n",
    "                                 'electricity': ['heating','secondary heating' ,'cooling' ,'cooking','computers',\n",
    "                                                 'drying','lighting', 'refrigeration','ceiling fan','fans and pumps',\n",
    "                                                 'water heating','other', 'all'],\n",
    "                                 'natural gas': ['heating','secondary heating', 'cooling', 'cooking', 'drying',\n",
    "                                                 'water heating','other', 'all'],\n",
    "                                 'distillate': ['heating', 'secondary heating', 'water heating', 'other', 'all'],\n",
    "                                 'other fuel': ['heating', 'secondary heating','water heating', 'cooking', 'drying',\n",
    "                                               'other', 'all'],\n",
    "                                 'commercial': ['assembly', 'education', 'food sales','food service', 'health care',\n",
    "                                                'lodging','small office','large office','mercantile/serice',\n",
    "                                                'warehouse', 'other'], \n",
    "                                 'electricity': ['heating', 'cooling', 'ventilation', 'water heating','lighting',\n",
    "                                                'refrigeration', 'cooking','PCs', 'non-PC office equipment', 'MELs','all'],\n",
    "                                 'natural gas':['heating', 'cooling', 'water heating', 'cooking', 'all'],\n",
    "                                 'distillate': ['heating', 'water heating', 'all']}\n",
    "\n",
    "        ## Dict translators for building class, end use, and fuel type found on in the EIA data\n",
    "        # Dict of building class\n",
    "        self.bldg_class_translator = {'residential': 'RESD', 'commercial': 'COMM'}\n",
    "\n",
    "        #Dict of end uses\n",
    "        self.end_use_translator = {'Clothes washers': 'CLW', 'Clothes dryers': 'CDR', 'Computers': 'CMPR', 'Cooking': 'CGR', 'Computing': 'OTHEQPPC' ,\n",
    "        'Delivered Energy':'DELE', 'Dishwashers': 'DSW', 'Fans and Pumps': 'FPR', 'Freezers': 'FRZ', 'Lighting': 'LGHTNG', 'Office Equipment': 'OTHEQPNPC',\n",
    "        'Other Uses': 'OTHU','Refrigeration': 'REFR', 'Space Cooling': 'SPC', 'Space Heating': 'SPH', 'Televisions': 'TVR', 'Ventilation': 'VNTC', 'Water Heating': 'WTHT' }\n",
    "\n",
    "        #Dict of fuel type, purchased electricity is for commercial\n",
    "        self.fuel_type_translator = {'electricity': 'ELC', 'Purchased Electricity': 'PRC', 'natural gas': 'NG'}\n"
   ]
  },
  {
   "cell_type": "code",
   "execution_count": null,
   "metadata": {},
   "outputs": [],
   "source": []
  },
  {
   "cell_type": "code",
   "execution_count": null,
   "metadata": {},
   "outputs": [],
   "source": [
    "## Useful variables used in later functions\n",
    "bld_class_translator = {'residential': 'RESD', 'commercial': 'COMM'}\n",
    "json_data_translator_dict = {'residential': ['single family home', 'multi family home', 'mobile homes'],\n",
    "                             'electricity': ['heating','secondary heating' ,'cooling' ,'cooking','computers',\n",
    "                                             'drying','lighting', 'refrigeration','ceiling fan','fans and pumps',\n",
    "                                             'water heating','other', 'all'],\n",
    "                             'natural gas': ['heating','secondary heating', 'cooling', 'cooking', 'drying',\n",
    "                                             'water heating','other', 'all'],\n",
    "                             'distillate': ['heating', 'secondary heating', 'water heating', 'other', 'all'],\n",
    "                             'other fuel': ['heating', 'secondary heating','water heating', 'cooking', 'drying',\n",
    "                                           'other', 'all'],\n",
    "                             'commercial': ['assembly', 'education', 'food sales','food service', 'health care',\n",
    "                                            'lodging','small office','large office','mercantile/serice',\n",
    "                                            'warehouse', 'other'], \n",
    "                             'electricity': ['heating', 'cooling', 'ventilation', 'water heating','lighting',\n",
    "                                            'refrigeration', 'cooking','PCs', 'non-PC office equipment', 'MELs','all'],\n",
    "                             'natural gas':['heating', 'cooling', 'water heating', 'cooking', 'all'],\n",
    "                             'distillate': ['heating', 'water heating', 'all']}\n",
    "\n",
    "fuel_type_translator = {'electricity': 'ELC', 'purchased electricity': 'PRC', 'natural gas': 'NG'}\n",
    "end_use_translator = {'clothes washers': 'CLW', 'clothes dryers': 'CDR', 'computers': 'CMPR', 'cooking': 'CGR', 'computing': 'OTHEQPPC',\n",
    "                      'dishwashers': 'DSW', 'fans and pumps': 'FPR', 'freezers': 'FRZ', 'lighting': 'LGHTNG', 'office equipment': 'OTHEQPNPC',\n",
    "    'other uses': 'OTHU','refrigeration': 'REFR', 'cooling': 'SPC', 'heating': 'SPH', 'TVs': 'TVR', 'ventilation': 'VNTC', 'water Heating': 'WTHT' }\n",
    "\n",
    "#print(end_use_translator)\n",
    "#type(end_use_translator)"
   ]
  },
  {
   "cell_type": "code",
   "execution_count": null,
   "metadata": {},
   "outputs": [],
   "source": [
    "## Old function\n",
    "filter_strings = ['residential','electricity', 'refrigeration']\n",
    "## Recursive function to traverse the json structure and grab energy values per year as numpy array\n",
    "def recursive(test_data_dict, filter_strings , energy_vals, position_list=[]):\n",
    "    for key, value in test_data_dict.items():\n",
    "        if isinstance(value, dict):  \n",
    "            recursive(value, filter_strings , energy_vals, position_list+[key]) \n",
    "            \n",
    "        else:\n",
    "        ## At the endpoint/leaf node, use relevant fuel type and end use combination to filter neccessary energy values, aggregate energy value by year\n",
    "            \n",
    "            ## Store each year as a list\n",
    "            years_as_keys_list = (position_list+[key])\n",
    "            \n",
    "            ## Convert list into numpy array\n",
    "            years_as_keys_array = np.array(years_as_keys_list)\n",
    "            \n",
    "            ## Extract relevant fuel type and end use combination that matches EIA data\n",
    "            #filter_strings = ['residential','electricity', 'refrigeration']\n",
    "            #filter_strings = ['residential','electricity', 'heating']\n",
    "            \n",
    "            ## Create a dict for residential and commercial bldg types \n",
    "            ## Check format in EIA for proper syntax matching, \n",
    "            all_bldg_types ={'residential': ['single family home', 'multi family home', 'mobile homes'], \n",
    "            'commercial': ['assembly', 'education', 'food sales','food service', 'health care', 'lodging',\n",
    "            'small office','large office','mercantile/serice', 'warehouse', 'other']}\n",
    "            \n",
    "            \n",
    "            ## Isolate all heating energy values by years\n",
    "            #if filter_strings[1] and filter_strings[2] and all_bldg_types[filter_strings[0]] and 'energy' in years_as_keys_list:\n",
    "               # print(\"Yay\")\n",
    "        \n",
    "            #if any(value in years_as_keys_list for value in all_bldg_types[filter_strings[0]]) and(\"energy\" in years_as_keys_list):\n",
    "               # print(\"True#3\")\n",
    "                \n",
    "            if filter_strings[1] and filter_strings[2] and all_bldg_types[filter_strings[0]] and 'energy' in years_as_keys_list:\n",
    "                ## Sort by keys in year order and grab values in the order of the years as numpy array\n",
    "                energy_vals+=np.array([test_data_dict[key] for key,value in sorted(test_data_dict.items())])\n",
    "                #print(type(energy_vals))\n",
    "\n",
    "    return (energy_vals)\n",
    "           "
   ]
  },
  {
   "cell_type": "code",
   "execution_count": null,
   "metadata": {},
   "outputs": [],
   "source": [
    "## Test calling recursive function, why am I getting zeros?\n",
    "filter_strings = ['residential','electricity', 'refrigeration']\n",
    "#filter_strings = [\"electricity\", \"refrigeration\"]\n",
    "test=recursive(test_data_dict, filter_strings, np.zeros(2))\n",
    "#print((test, type(test)))\n",
    "\n"
   ]
  },
  {
   "cell_type": "code",
   "execution_count": null,
   "metadata": {},
   "outputs": [],
   "source": [
    "## All possible data combinations for bldg class, fuel type and end use\n",
    "bldg_class = ['residential', 'commercial']\n",
    "fuel_type = ['electricity', 'Purchased Electricity', 'natural gas']\n",
    "end_use = ['clothes washers', 'clothes dryers', 'computers', 'cooking', 'computing',\n",
    "'delivered energy', 'dishwashers','fans and pumps', 'freezers', 'lighting', 'office equipment',\n",
    "'other uses','refrigeration', 'cooling', 'heating', 'TVs', 'ventilation', 'water heating']\n",
    "\n",
    "## Read in data\n",
    "with open('test_json_traverse.json') as f:\n",
    "    data_dict = json.load(f)\n",
    "                \n",
    "## Construct filter strings combination to be used to call functions\n",
    "for bldg in bldg_class:\n",
    "    #print(str(bldg), type(bldg))\n",
    "    for fuel in fuel_type:\n",
    "        #print(fuel, type(fuel))\n",
    "        for use in end_use:\n",
    "            #print(use)\n",
    "            \n",
    "            ## Concatenate filter strings combination\n",
    "            filter_strings = [bldg, fuel, use]\n",
    "            print(filter_strings)\n",
    "            \n",
    "            ## Call recursive function\n",
    "            test_2 = recursive(data_dict, filter_strings, np.zeros(2))\n",
    "            print(test_2)"
   ]
  },
  {
   "cell_type": "code",
   "execution_count": null,
   "metadata": {},
   "outputs": [],
   "source": [
    "class test_data_comparsion_expect_block():\n",
    "    ## create an error that triggers the expect block and \n",
    "    ## Purposely input only bldg class and end use for input into recursive function\n",
    "    trigger_else_block_error = ['residential','refrigeration']\n",
    "\n",
    "    ## Expected output of else block\n",
    "    expected_str_else_block = ('list index out of range, filter_strings is wrong')\n",
    "\n",
    "    def __init__(self):\n",
    "        self.data_comparsion = baseline_calculator_code_2.data_comparsion\n",
    "\n",
    "        ## Testing the operation of the else block\n",
    "        def test_else_block_error(self):\n",
    "            ## Call data comparsion function,\n",
    "            ## Replace filter_strings with trigger_else_block_error\n",
    "            output_array_else_block = self.data_comparsion(test_data_dict, self.trigger_else_block_error, np.zeros(2))\n",
    "        print(output_array_else_block) "
   ]
  },
  {
   "cell_type": "code",
   "execution_count": null,
   "metadata": {},
   "outputs": [],
   "source": [
    "## Testing-De-bugging: Nested for loop for filter_strings\n",
    "#bldg_class = ['residential', ['single family home', 'multi family home', 'mobile homes'], \n",
    "            #'commercial',['assembly', 'education', 'food sales','food service', 'health care', 'lodging',\n",
    "            #'small office','large office','mercantile/serice', 'warehouse', 'other']]\n",
    "bldg_class = ['single family home', 'multi family home', 'mobile homes', 'assembly',\n",
    "                'education', 'food sales','food service', 'health care','lodging','small office',\n",
    "                'large office','mercantile/serice', 'warehouse', 'other']\n",
    "fuel_type = ['electricity', 'Purchased Electricity', 'natural gas']\n",
    "end_use = ['clothes washers', 'clothes dryers', 'computers', 'cooking', 'computing',\n",
    "           'delivered energy', 'dishwashers','fans and pumps', 'freezers', 'lighting',\n",
    "           'office equipment','other uses','refrigeration','cooling','heating','TVs',\n",
    "           'ventilation', 'water heating']\n",
    "\n",
    "\n",
    "#print( ','.join[bldg,fuel,use], type(bldg_class))\n",
    "for key,value in sorted(test_data_dict.items()):\n",
    "    test_keys = ([test_data_dict[key]])\n",
    "    #print(test_keys, type(test_keys))\n",
    "    #for list in test_keys:\n",
    "        #print(list, type(list))\n",
    "        #test_5 =list\n",
    "        #print(test_5)   "
   ]
  },
  {
   "cell_type": "code",
   "execution_count": null,
   "metadata": {},
   "outputs": [],
   "source": [
    "    def __init__(self):\n",
    "        ## Matches data in json file for Scout, fix format error\n",
    "        self.json_data_translator_dict = {'residential': ['single family home', 'multi family home', 'mobile homes'],\n",
    "                                 'electricity': ['heating','secondary heating' ,'cooling' ,'cooking','computers',\n",
    "                                                 'drying','lighting', 'refrigeration','ceiling fan','fans and pumps',\n",
    "                                                 'water heating','other', 'all'],\n",
    "                                 'natural gas': ['heating','secondary heating', 'cooling', 'cooking', 'drying',\n",
    "                                                 'water heating','other', 'all'],\n",
    "                                 'distillate': ['heating', 'secondary heating', 'water heating', 'other', 'all'],\n",
    "                                 'other fuel': ['heating', 'secondary heating','water heating', 'cooking', 'drying',\n",
    "                                               'other', 'all'],\n",
    "                                 'commercial': ['assembly', 'education', 'food sales','food service', 'health care',\n",
    "                                                'lodging','small office','large office','mercantile/serice',\n",
    "                                                'warehouse', 'other'], \n",
    "                                 'electricity': ['heating', 'cooling', 'ventilation', 'water heating','lighting',\n",
    "                                                'refrigeration', 'cooking','PCs', 'non-PC office equipment', 'MELs','all'],\n",
    "                                 'natural gas':['heating', 'cooling', 'water heating', 'cooking', 'all'],\n",
    "                                 'distillate': ['heating', 'water heating', 'all']}\n",
    "\n",
    "        ## Dict translators for building class, end use, and fuel type found on in the EIA data\n",
    "        # Dict of building class\n",
    "        self.bld_class_translator = {'residential': 'RESD', 'commercial': 'COMM'}\n",
    "\n",
    "        #Dict of end uses\n",
    "        self.end_use_translator = {'clothes washers': 'CLW', 'clothes dryers': 'CDR', 'computers': 'CMPR', 'cooking': 'CGR', 'computing': 'OTHEQPPC' ,\n",
    "        'delivered energy':'DELE', 'dishwashers': 'DSW', 'fans and pumps': 'FPR', 'freezers': 'FRZ', 'lighting': 'LGHTNG', 'office equipment': 'OTHEQPNPC',\n",
    "        'other uses': 'OTHU','refrigeration': 'REFR', 'cooling': 'SPC', 'heating': 'SPH', 'TVs': 'TVR', 'ventilation': 'VNTC', 'water Heating': 'WTHT' }\n",
    "\n",
    "        #Dict of fuel type, electricity is residential\n",
    "        # purchased electricity is for commercial\n",
    "        self.fuel_type_translator = {'electricity': 'ELC', 'Purchased Electricity': 'PRC', 'natural gas': 'NG'}\n",
    "\n"
   ]
  },
  {
   "cell_type": "code",
   "execution_count": null,
   "metadata": {},
   "outputs": [],
   "source": [
    "bldg_class_translator = {'residential': 'RESD', 'commercial': 'COMM'}\n",
    "\n",
    "end_use_translator = {'clothes washers': 'CLW', 'clothes dryers': 'CDR', 'computers': 'CMPR', 'cooking': 'CGR', 'computing': 'OTHEQPPC' ,\n",
    "        'delivered energy':'DELE', 'dishwashers': 'DSW', 'fans and pumps': 'FPR', 'freezers': 'FRZ', 'lighting': 'LGHTNG', 'office equipment': 'OTHEQPNPC',\n",
    "        'other uses': 'OTHU','refrigeration': 'REFR', 'cooling': 'SPC', 'heating': 'SPH', 'TVs': 'TVR', 'ventilation': 'VNTC', 'water Heating': 'WTHT' }\n",
    "\n",
    "fuel_type_translator = {'electricity': 'ELC', 'Purchased Electricity': 'PRC', 'natural gas': 'NG'}\n",
    "\n"
   ]
  },
  {
   "cell_type": "code",
   "execution_count": null,
   "metadata": {},
   "outputs": [],
   "source": [
    "from unittest.mock import patch, call"
   ]
  },
  {
   "cell_type": "code",
   "execution_count": null,
   "metadata": {},
   "outputs": [],
   "source": [
    "\n",
    "\n",
    "# Text expected to be printed to the stdout by the except block\n",
    "expected_except_print = ('list index out of range' )\n",
    "\n",
    "\n",
    "\n",
    "    @patch('builtins.print')\n",
    "    def test_except_print(self, mock_print):\n",
    "        mock_print = baseline_calculator_code_2a.data_comparsion(data_dict, self.filter_str_exception, np.zeros(2))\n",
    "\n",
    "        ## De-bugging purposes\n",
    "        #print(mock_print)\n",
    "\n",
    "        ## Test that printed output from the except block matches the expected string\n",
    "        ## Only catches raised error if its located inside its corresponding try block\n",
    "        self.assertEqual( mock_print, self.expected_except_print)\n",
    "        "
   ]
  },
  {
   "cell_type": "code",
   "execution_count": null,
   "metadata": {},
   "outputs": [],
   "source": [
    "## Testing print function"
   ]
  },
  {
   "cell_type": "code",
   "execution_count": null,
   "metadata": {},
   "outputs": [],
   "source": [
    "import json\n",
    "import numpy as np\n",
    "import baseline_calculator_code_2a\n",
    "import os\n",
    "import requests\n"
   ]
  },
  {
   "cell_type": "code",
   "execution_count": null,
   "metadata": {},
   "outputs": [],
   "source": [
    "def data_comparsion(data_dict,filter_strings, np_array):\n",
    "     def __init__(self):\n",
    "        ## Matches data in json file for Scout, fix format error\n",
    "        self.json_data_translator_dict = {'residential': ['single family home', 'multi family home', 'mobile homes'],\n",
    "                                 'electricity': ['heating','secondary heating' ,'cooling' ,'cooking','computers',\n",
    "                                                 'drying','lighting', 'refrigeration','ceiling fan','fans and pumps',\n",
    "                                                 'water heating','other', 'all'],\n",
    "                                 'natural gas': ['heating','secondary heating', 'cooling', 'cooking', 'drying',\n",
    "                                                 'water heating','other', 'all'],\n",
    "                                 'distillate': ['heating', 'secondary heating', 'water heating', 'other', 'all'],\n",
    "                                 'other fuel': ['heating', 'secondary heating','water heating', 'cooking', 'drying',\n",
    "                                               'other', 'all'],\n",
    "                                 'commercial': ['assembly', 'education', 'food sales','food service', 'health care',\n",
    "                                                'lodging','small office','large office','mercantile/serice',\n",
    "                                                'warehouse', 'other'], \n",
    "                                 'electricity': ['heating', 'cooling', 'ventilation', 'water heating','lighting',\n",
    "                                                'refrigeration', 'cooking','PCs', 'non-PC office equipment', 'MELs','all'],\n",
    "                                 'natural gas':['heating', 'cooling', 'water heating', 'cooking', 'all'],\n",
    "                                 'distillate': ['heating', 'water heating', 'all']}\n",
    "\n",
    "        ## Dict translators for building class, end use, and fuel type found on in the EIA data\n",
    "        # Dict of building class\n",
    "        self.bldg_class_translator = {'residential': 'RESD', 'commercial': 'COMM'}\n",
    "\n",
    "        #Dict of end uses\n",
    "        self.end_use_translator = {'clothes washers': 'CLW', 'clothes dryers': 'CDR', 'computers': 'CMPR', 'cooking': 'CGR', 'computing': 'OTHEQPPC' ,\n",
    "        'delivered energy':'DELE', 'dishwashers': 'DSW', 'fans and pumps': 'FPR', 'freezers': 'FRZ', 'lighting': 'LGHTNG', 'office equipment': 'OTHEQPNPC',\n",
    "        'other uses': 'OTHU','refrigeration': 'REFR', 'cooling': 'SPC', 'heating': 'SPH', 'TVs': 'TVR', 'ventilation': 'VNTC', 'water Heating': 'WTHT' }\n",
    "        \n",
    "        #Dict of fuel type, electricity is residential\n",
    "        # purchased electricity is for commercial\n",
    "        self.fuel_type_translator = {'electricity': 'ELC', 'Purchased Electricity': 'PRC', 'natural gas': 'NG'}\n",
    "\n",
    "        # Use json_data_translator_dict to obtain the same data contained in 'val'\n",
    "        # for the other climate zones and add it to the values for climate zone 1\n",
    "        # to get a single list/dict/array of values by year\n",
    "        try:\n",
    "            with open('supporting_data/stock_energy_tech_data/mseg_res_com_cz.json') as f:\n",
    "                data_dict = json.load(f)\n",
    "                # call recursive function, get energy values, change filter string to match the fiter string combo you call from recursive\n",
    "                recursive(data_dict, filter_strings, np.zeros(2))\n",
    "                energy_vals = recursive(test_data_dict, filter_strings, np.zeros(2))\n",
    "\n",
    "                # use json_data_translator_dict to determine the data to call from the EIA API, this is series ID\n",
    "                eia_data_str = 'AEO.2020.REF2020.CNSM_NA_'+bldg_class_translator[filter_strings[0]]+'_'+end_use_translator[filter_strings[2]]+'_'+fuel_type_translator[filter_strings[1]]+'_NA_USA_QBTU.A'\n",
    "\n",
    "                ## call EIA API and grab EIA energy values based on years\n",
    "                eia_data_array, eia_data_years = data_processor(api_query('96b976d56566570e0292b914bdef21d6', eia_data_str))\n",
    "                #print(type(eia_data_array))\n",
    "                ## sum EIA values, compare to json energy value\n",
    "                eia_energy_sum = sum(eia_data_array)\n",
    "                #print(type(eia_energy_sum))\n",
    "                # Test if arrays have same shape and same element values\n",
    "                #if np.array_almost_equal(eia_data_array, energy_vals):\n",
    "                    #print('True')\n",
    "\n",
    "                return eia_data_array, energy_vals\n",
    "        \n",
    "        ## Only runs if try block is unsuccessful\n",
    "        except IndexError:\n",
    "            print('filter strings list index out of range')\n",
    "        except AttributeError:\n",
    "            print(\" 'NoneType' object has no attribute 'mock_calls' \")\n",
    "        ## Using bare except to catch all errors\n",
    "        except:\n",
    "            print('Some other error occurred')\n"
   ]
  },
  {
   "cell_type": "code",
   "execution_count": null,
   "metadata": {},
   "outputs": [],
   "source": [
    "## Read in test data\n",
    "with open('test_json_traverse.json') as f:\n",
    "    data_dict = json.load(f)\n",
    "    \n",
    "    filter_str_exception = ['residential','electricity','refrigeration']\n",
    "    \n",
    "    mock_print = baseline_calculator_code_2a.data_comparsion(data_dict, filter_str_exception, np.zeros(2))\n",
    "    print(mock_print)"
   ]
  },
  {
   "cell_type": "code",
   "execution_count": null,
   "metadata": {},
   "outputs": [],
   "source": [
    "### Call data_comparsion function\n",
    "filter_strings = ['residential','electricity', 'heating']\n",
    "#print(type(filter_strings))\n",
    "#data_comparison(test_data_dict, filter_strings, (np.zeros(2), np.zeros(2)))"
   ]
  },
  {
   "cell_type": "code",
   "execution_count": null,
   "metadata": {},
   "outputs": [],
   "source": [
    "## Construct filter strings combination to be used to call functions\n",
    "for bldg in bldg_class:\n",
    "    print(str(bldg), type(bldg))\n",
    "    for fuel in fuel_type:\n",
    "        #print(fuel, type(fuel))\n",
    "        for use in end_use:\n",
    "            #print(use)\n",
    "            ## Concatenate filter strings combination\n",
    "            filter_strings = [bldg + ',' + fuel + ',' + use]\n",
    "            print(filter_strings, type(filter_strings))\n",
    "            ## Call data comparsion function\n",
    "            data_comparsion(test_data_dict, filter_strings, (np.zeros(2), np.zeros(2))) \n",
    "\n",
    "            ## at the highest level of for loop, call data comparsion ; \n",
    "            ## pass a list for specify bldg ,fuel, end use \n",
    "            ## have real data dict\n",
    "            ## if filter string combo present then will call function\n",
    "            ## if not then will continue through iteration until next valid combo\n",
    "            ## data comparsion function should continue despite valid combo, will check to make sure\n"
   ]
  },
  {
   "cell_type": "code",
   "execution_count": null,
   "metadata": {},
   "outputs": [],
   "source": [
    "### My adapted version of Chioke's EX#1\n",
    "from unittest.mock import patch\n",
    "import baseline_calculator_code_2 as code\n",
    "import unittest\n",
    "\n"
   ]
  },
  {
   "cell_type": "code",
   "execution_count": null,
   "metadata": {},
   "outputs": [],
   "source": [
    "class test_data_comparsion_expect_block(unittest.TestCase):\n",
    "    ## create an error that triggers the expect block and \n",
    "    ## Purposely input only bldg class and end use for input into recursive function\n",
    "    trigger_else_block_error = ['residential','refrigeration']\n",
    "\n",
    "    ## Expected output of else block\n",
    "    expected_list_else_block = ['list index out of range, check filter_strings']\n",
    "\n",
    "    ## Testing the operation of the else block\n",
    "    @patch('baseline_calculator_code_2.data_comparsion')\n",
    "    def test_else_block_error(self, recursive_error, patch_else_block):\n",
    "        patch_else_block.return_value = ['list index out of range, check filter_strings']\n",
    "        #recursive_error.side_effect = IndexError()\n",
    "    print(type(test_else_block_error))\n",
    "\n",
    "        ## Call data comparsion function,\n",
    "        ## Replace filter_strings with trigger_else_block_error\n",
    "        #output_array_else_block = self.data_comparsion(test_data_dict, self.trigger_else_block_error, np.zeros(2))\n",
    "        \n",
    "        ## Compare output from data comparsion function with desired output\n",
    "        #self.assertalmostEqual(output_array_else_block, expected_list_else_block)\n",
    "        \n",
    "\n",
    "        \n"
   ]
  },
  {
   "cell_type": "code",
   "execution_count": null,
   "metadata": {},
   "outputs": [],
   "source": [
    "### TESTING CODE BELOW"
   ]
  },
  {
   "cell_type": "code",
   "execution_count": null,
   "metadata": {},
   "outputs": [],
   "source": [
    "### Testing data comparsion funtion's except block when pass in wrong tuple length\n",
    "## Old function:\n"
   ]
  },
  {
   "cell_type": "code",
   "execution_count": null,
   "metadata": {},
   "outputs": [],
   "source": [
    "## CURRENT FUNCTION\n",
    "\n",
    "def data_comparsion(data_dict,filter_strings, np_array):\n",
    "     def __init__(self):\n",
    "        ## Matches data in json file for Scout, fix format error\n",
    "        self.json_data_translator_dict = {'residential': ['single family home', 'multi family home', 'mobile homes'],\n",
    "                                 'electricity': ['heating','secondary heating' ,'cooling' ,'cooking','computers',\n",
    "                                                 'drying','lighting', 'refrigeration','ceiling fan','fans and pumps',\n",
    "                                                 'water heating','other', 'all'],\n",
    "                                 'natural gas': ['heating','secondary heating', 'cooling', 'cooking', 'drying',\n",
    "                                                 'water heating','other', 'all'],\n",
    "                                 'distillate': ['heating', 'secondary heating', 'water heating', 'other', 'all'],\n",
    "                                 'other fuel': ['heating', 'secondary heating','water heating', 'cooking', 'drying',\n",
    "                                               'other', 'all'],\n",
    "                                 'commercial': ['assembly', 'education', 'food sales','food service', 'health care',\n",
    "                                                'lodging','small office','large office','mercantile/serice',\n",
    "                                                'warehouse', 'other'], \n",
    "                                 'electricity': ['heating', 'cooling', 'ventilation', 'water heating','lighting',\n",
    "                                                'refrigeration', 'cooking','PCs', 'non-PC office equipment', 'MELs','all'],\n",
    "                                 'natural gas':['heating', 'cooling', 'water heating', 'cooking', 'all'],\n",
    "                                 'distillate': ['heating', 'water heating', 'all']}\n",
    "\n",
    "        ## Dict translators for building class, end use, and fuel type found on in the EIA data\n",
    "        # Dict of building class\n",
    "        self.bld_class_translator = {'residential': 'RESD', 'commercial': 'COMM'}\n",
    "\n",
    "        #Dict of end uses\n",
    "        self.end_use_translator = {'clothes washers': 'CLW', 'clothes dryers': 'CDR', 'computers': 'CMPR', 'cooking': 'CGR', 'computing': 'OTHEQPPC' ,\n",
    "        'delivered energy':'DELE', 'dishwashers': 'DSW', 'fans and pumps': 'FPR', 'freezers': 'FRZ', 'lighting': 'LGHTNG', 'office equipment': 'OTHEQPNPC',\n",
    "        'other uses': 'OTHU','refrigeration': 'REFR', 'cooling': 'SPC', 'heating': 'SPH', 'TVs': 'TVR', 'ventilation': 'VNTC', 'water Heating': 'WTHT' }\n",
    "        \n",
    "        #Dict of fuel type, electricity is residential\n",
    "        # purchased electricity is for commercial\n",
    "        self.fuel_type_translator = {'electricity': 'ELC', 'Purchased Electricity': 'PRC', 'natural gas': 'NG'}\n",
    "\n",
    "        # Use json_data_translator_dict to obtain the same data contained in 'val'\n",
    "        # for the other climate zones and add it to the values for climate zone 1\n",
    "        # to get a single list/dict/array of values by year\n",
    "        try:\n",
    "            with open('supporting_data/stock_energy_tech_data/mseg_res_com_cz.json') as f:\n",
    "                data_dict = json.load(f)\n",
    "                # call recursive function, get energy values, change filter string to match the fiter string combo you call from recursive\n",
    "                recursive(data_dict, filter_strings, np.zeros(2))\n",
    "\n",
    "            # IF string combo(i.e eia_data_str and json_data_translator) is present in the test_json and EIA\n",
    "            # for all combos of json_data_translator and test_data; call eia for some str combos \n",
    "            #if all(value in test_data_dict for value in json_data_translator_dict.items()) and any(value in test_data_dict for value in json_data_translator_dict[eia_data_str]): \n",
    "            #eia_energy_vals+= np.array([json_data_translator_dict[key]] for key in sorted(json_data_translator_dict.items()))\n",
    "\n",
    "        ## Only runs if try block is unsuccessful\n",
    "        ## Use expection and print error, but continue until a combo is found\n",
    "        \n",
    "        #except AssertionError:\n",
    "            #print(['First sequence is not a list, check filter_strings'])\n",
    "            #pass\n",
    "        except IndexError:\n",
    "            print(['list index out of range, check filter_strings'])\n",
    "            \n",
    "        ## If try block successful, then this runs\n",
    "        else:\n",
    "            # use json_data_translator_dict to determine the data to call from the EIA API, this is series ID\n",
    "            eia_data_str = 'AEO.2020.REF2020.CNSM_NA_'+self.bld_class_translator[filter_strings[0]]+'_'+self.end_use_translator[filter_strings[2]]+'_'+self.fuel_type_translator[filter_strings[1]]+'_NA_USA_QBTU.A'\n",
    "\n",
    "            ## call EIA API and grab EIA energy values based on years\n",
    "            eia_data_array, eia_data_years = data_getter('96b976d56566570e0292b914bdef21d6', filter_strings, eia_data_str)\n",
    "\n",
    "            ## sum EIA values, compare to json energy value\n",
    "            eia_energy_sum = sum(eia_data_array)\n",
    "\n",
    "            ## Compare EIA and json energy values \n",
    "            ## Test if arrays have same shape and same element values\n",
    "            if np.array_almost_equal(eia_data_array, energy_vals):\n",
    "            #if np.array_equal(eia_data_array, energy_vals):\n",
    "                print('True')\n",
    "            #if eia_energy_sum == energy_vals.any():\n",
    "                #print('EIA and json data are equal')\n",
    "            #if eia_energy_sum != energy_vals:\n",
    "                #print('EIA and json data not equal') \n",
    "\n",
    "            return eia_data_array, eia_data_years\n",
    "\n",
    "        ## Close EIA API\n",
    "        finally:\n",
    "            print(\"Closing EIA API\")\n"
   ]
  },
  {
   "cell_type": "code",
   "execution_count": null,
   "metadata": {},
   "outputs": [],
   "source": [
    "## TESTING: Call data comparsion function with two tuples and see if I get index error\n",
    "filter_strings = ['residential','electricity', 'refrigeration']\n",
    "\n",
    "test=data_comparsion_2(test_data_dict,filter_strings, (np.zeros(2), np.zeros(2)))\n",
    "print(test)"
   ]
  },
  {
   "cell_type": "code",
   "execution_count": null,
   "metadata": {},
   "outputs": [],
   "source": []
  },
  {
   "cell_type": "code",
   "execution_count": null,
   "metadata": {},
   "outputs": [],
   "source": [
    "## De-bugging - issue with output format of the mock_get_patcher\n",
    "## Test mocking patch for EIA API call function, outputs as a dict\n",
    "mock_get_patcher = (requests.get('http://api.eia.gov/series/?api_key=96b976d56566570e0292b914bdef21d6&series_id=AEO.2020.REF2020.CNSM_HHD_RESD_SPH_ELC_NA_USA_QBTU.A').json())\n",
    "#mock_get_patcher\n",
    "#mock_patch_dict = patch(mock_get_patcher)\n",
    "\n",
    "## Issue with rsplit, trying solution here; this currently grabs all year and energy values,\n",
    "## Need data accessed + patched line by line\n",
    "## Solution 1, format data into year, energy values as a list, then patch line by line i.e. index\n",
    "mock_eia_data = (mock_get_patcher['series'][0]['data'])\n",
    "#type(mock_eia_data)\n",
    "type(mock_eia_data)\n",
    "\n",
    "#mock_patch_list = patch(mock_eia_data[0])\n",
    "#mock_patch_list   "
   ]
  },
  {
   "cell_type": "code",
   "execution_count": null,
   "metadata": {},
   "outputs": [],
   "source": [
    "## Chioke advice 1\n",
    "## Try mocking the function call using requests.get inside api_query\n",
    "import converter as converter\n",
    "@patch('converter.requests.get')\n",
    "def test_api_query(self, mock_api_response):\n",
    "    # Set return value from mocked function\n",
    "    # Mock chained call in api_query function requests.get().json() per:\n",
    "    # https://docs.python.org/3/library/unittest.mock-examples.html#mocking-chained-calls\n",
    "    mock_api_response.return_value.json.return_value = {'series': [{'data': ['success']}]}\n",
    "\n",
    "    # Call function inside which the mock is applied\n",
    "    func_output = converter.api_query('96b976d56566570e0292b914bdef21d6',\n",
    "                                      'AEO.2020.REF2020.CNSM_HHD_RESD_SPH_ELC_NA_USA_QBTU.A')\n",
    "\n",
    "    # Define expected output from the function\n",
    "    expected_output = ['success']\n",
    "\n",
    "    # Compare the output from the api_query function using the\n",
    "    # mocked response with the expected output from the function\n",
    "    self.assertListEqual(func_output, expected_output)"
   ]
  },
  {
   "cell_type": "code",
   "execution_count": null,
   "metadata": {},
   "outputs": [],
   "source": [
    "func_output = converter.api_query('96b976d56566570e0292b914bdef21d6', 'AEO.2020.REF2020.CNSM_HHD_RESD_SPH_ELC_NA_USA_QBTU.A')\n",
    "test_api_query(mock_api_response)"
   ]
  },
  {
   "cell_type": "code",
   "execution_count": null,
   "metadata": {},
   "outputs": [],
   "source": [
    "## Try mocking the entirety of the api_query function \n",
    "## (when called inside another function)\n",
    "@patch('converter.api_query')\n",
    "def test_mock_entire_func(self, mock_func_return):\n",
    "    ## Set return value from mocked function; test data right?\n",
    "    mock_func_return.return_value = [['2016', 0.356], ['2015', 0.352]]\n",
    "\n",
    "    ## Specify data series names in a list; api_key, filter strings for json data, EIA API series list\n",
    "    ## (input to the data_getter function)\n",
    "    data_names = ['residential','electricity', 'heating'],\n",
    "                 \n",
    "\n",
    "    ## Specify expected output for the given data name\n",
    "    ## (outputs from the data_getter function)\n",
    "    expected_arrays = [np.array([0.352, 0.356])]\n",
    "    expected_years = np.array(['2015', '2016'])\n",
    "\n",
    "    ## Call function inside which the mock is applied\n",
    "    output_dict, the_years = converter.data_getter('96b976d56566570e0292b914bdef21d6',\n",
    "                                                   data_names,\n",
    "                                                   ['AEO.2020.REF2020.CNSM_HHD_RESD_SPH_ELC_NA_USA_QBTU.A'])\n",
    "\n",
    "    ## Test the year output\n",
    "    np.testing.assert_array_equal(the_years, expected_years)\n",
    "\n",
    "    ## Test the dict output, iterating over data_names (the source\n",
    "    ## of the key(s) for the output dict)\n",
    "    for idx, nom in enumerate(data_names):\n",
    "        np.testing.assert_almost_equal(output_dict[nom], expected_arrays[idx])"
   ]
  },
  {
   "cell_type": "code",
   "execution_count": null,
   "metadata": {},
   "outputs": [],
   "source": [
    "test_mock_entire_func(mock_func_return)"
   ]
  },
  {
   "cell_type": "code",
   "execution_count": null,
   "metadata": {},
   "outputs": [],
   "source": [
    "## Solution 2, use key, value pairs of dict , mock_get_patcher\n",
    "#for key, value in mock_get_patcher.items():\n",
    "    #energy_list =[]\n",
    "    #if isinstance(value,dict):\n",
    "        \n",
    "mock_get_patcher.items()"
   ]
  },
  {
   "cell_type": "code",
   "execution_count": null,
   "metadata": {},
   "outputs": [],
   "source": []
  },
  {
   "cell_type": "code",
   "execution_count": null,
   "metadata": {},
   "outputs": [],
   "source": []
  },
  {
   "cell_type": "code",
   "execution_count": null,
   "metadata": {},
   "outputs": [],
   "source": [
    "## Attempt at fixing issue with rsplit, patch EIA API and replace with test data\n",
    "def test_3_access_EIA_API(api_key, series_id):\n",
    "    query_str = ('http://api.eia.gov/series/?api_key=' + api_key +\n",
    "                 '&series_id=' + series_id)\n",
    "    mock_get_patcher = patch(requests.get.query_str.json()\n",
    "\n",
    "    ## Start patching 'request.get' of EIA API\n",
    "    mock_get = mock_get_patcher.start()\n",
    "\n",
    "    ## Configure mock with ok status\n",
    "    mock.get.return_value.ok = True\n",
    "\n",
    "    ## Call EIA API request to server\n",
    "    eia_data_array, eia_data_years = data_processor(mock_get_patcher)\n",
    "    #eia_data_array, eia_data_years = data_processor(api_query('96b976d56566570e0292b914bdef21d6', eia_data_str))\n",
    "\n",
    "    ## Stop patching 'request.get'\n",
    "    mock_get_patcher.stop()\n",
    "\n",
    "    ## Response expected if request is successfu]\n",
    "    assert_is_not_none(eia_data_array, eia_data_years)\n",
    "\n",
    "    ## Grab data from EIA API, \n",
    "    ## might not be needed, came from api query function\n",
    "    try:\n",
    "        data = data['series'][0]['data']\n",
    "    # If an invalid series_id is used, the 'series' key will not be present\n",
    "    except KeyError:\n",
    "        print('\\nSeries ID not available from API: ' + series_id)\n",
    "    return data\n"
   ]
  },
  {
   "cell_type": "code",
   "execution_count": null,
   "metadata": {},
   "outputs": [],
   "source": [
    "## Test calling mocking function\n",
    "#test_3_access_EIA_API('96b976d56566570e0292b914bdef21d6', 'AEO.2020.REF2020.CNSM_HHD_RESD_SPH_ELC_NA_USA_QBTU.A')"
   ]
  },
  {
   "cell_type": "code",
   "execution_count": null,
   "metadata": {},
   "outputs": [],
   "source": [
    "asdf = requests.get('http://api.eia.gov/series/?api_key=96b976d56566570e0292b914bdef21d6&series_id=AEO.2020.REF2020.CNSM_HHD_RESD_SPH_ELC_NA_USA_QBTU.A')"
   ]
  },
  {
   "cell_type": "code",
   "execution_count": null,
   "metadata": {},
   "outputs": [],
   "source": [
    "asdf.json()"
   ]
  },
  {
   "cell_type": "code",
   "execution_count": null,
   "metadata": {},
   "outputs": [],
   "source": [
    "pwd()"
   ]
  },
  {
   "cell_type": "code",
   "execution_count": null,
   "metadata": {},
   "outputs": [],
   "source": [
    "import inspect"
   ]
  },
  {
   "cell_type": "code",
   "execution_count": null,
   "metadata": {},
   "outputs": [],
   "source": [
    "inspect.getfile(codex)"
   ]
  },
  {
   "cell_type": "code",
   "execution_count": null,
   "metadata": {},
   "outputs": [],
   "source": [
    "## Mock EIA API,patch function = patcher ; find source to path, start mock, stop patch \n",
    "\n",
    "## Import standard + third-party libraries\n",
    "from unittest.mock import patch\n",
    "from nose.tools import assert_is_not_none\n",
    "import baseline_calculator_code_2 as codex"
   ]
  },
  {
   "cell_type": "code",
   "execution_count": null,
   "metadata": {},
   "outputs": [],
   "source": [
    "## Reads test data json file and stores as a dict\n",
    "with open('test_json_traverse.json') as f:\n",
    "  test_data_dict = json.load(f)\n",
    "\n",
    "## Using a decorator patch to identify the source of my patch as the output data from EIA API server\n",
    "#@patch('baseline_calculator_code_2.eia_data_str')\n",
    "#@patch('baseline_calculator_code_2.requests.get')  # might work\n",
    "@patch('codex.api_query')  # might work\n",
    "def test_access_EIA_API(mock_api_response):#def test_access_EIA_API():\n",
    "    mock_api_response = patch('api_query')\n",
    "    # Create simulated API response in the EIA API format\n",
    "    mock_api_response.return_value = [['2016', 288], ['2015', 256]]\n",
    "    see_mock = codex.api_query('a', 'a')\n",
    "    # Generate restructured output based on mocked API response\n",
    "    #eia_data_array, eia_data_years = codex.data_processor(codex.api_query('a','a'))\n",
    "    return see_mock\n",
    "    # -------------------------------------------------------------\n",
    "    \n",
    "#     ## Set up mock patch structure as the test data but the np array from recursive function\n",
    "#     ## This should replace the output data of the EIA API server\n",
    "#     energy_vals = recursive(test_data_dict, filter_strings, np.zeros(2))\n",
    "#     mock_patcher = patch(energy_vals)\n",
    "    \n",
    "#     #eia_data_str = 'AEO.2020.REF2020.CNSM_NA_'+bld_class_translator[filter_strings[0]]+'_'+end_use_translator[filter_strings[2]]+'_'+fuel_type_translator[filter_strings[1]]+'_NA_USA_QBTU.A'\n",
    "#     #api_key = '96b976d56566570e0292b914bdef21d6'\n",
    "#     #series_id = eia_data_str\n",
    "#     #query_str = ('http://api.eia.gov/series/?api_key=' + api_key +\n",
    "#                  #'&series_id=' + series_id)\n",
    "#     #mock_patcher = patch(data_processor(api_query('96b976d56566570e0292b914bdef21d6', eia_data_str)))\n",
    "    \n",
    "#     ## Start patching EIA API structure\n",
    "#     mock_start_patch = mock_patcher.start()\n",
    "    \n",
    "#     ## Configure mock to return response with OK status\n",
    "#     mock_start_patch.return_value.ok = True\n",
    "    \n",
    "#     ## Configure mock to return json method of results\n",
    "#     mock_start_patch.return_value.json.return_value = test_mock_data_list\n",
    "    \n",
    "#     ## Call EIA API service, sends request to server; should replace data with test data?\n",
    "#     ## Might need to check to see if it actually is\n",
    "#     eia_data_array, eia_data_years = data_processor(api_query('96b976d56566570e0292b914bdef21d6', eia_data_str))\n",
    "\n",
    "#     ## Stop patching EIA API structure\n",
    "#     mock_patcher.stop()\n",
    "    \n",
    "#     ## If request is sent successfully, response should be returned\n",
    "#     response = assert_is_not_none(eia_data_array, eia_data_years)\n",
    "#     return response\n",
    "    "
   ]
  },
  {
   "cell_type": "code",
   "execution_count": null,
   "metadata": {},
   "outputs": [],
   "source": [
    "test_access_EIA_API()"
   ]
  },
  {
   "cell_type": "code",
   "execution_count": null,
   "metadata": {},
   "outputs": [],
   "source": [
    "import baseline_calculator_code_2 as code\n",
    "code.data_processor(api_query('96b976d56566570e0292b914bdef21d6', eia_data_str))"
   ]
  },
  {
   "cell_type": "code",
   "execution_count": null,
   "metadata": {},
   "outputs": [],
   "source": [
    "test_access_EIA_API()"
   ]
  },
  {
   "cell_type": "code",
   "execution_count": null,
   "metadata": {},
   "outputs": [],
   "source": []
  },
  {
   "cell_type": "code",
   "execution_count": null,
   "metadata": {},
   "outputs": [],
   "source": [
    "## Testing errors from recursive function\n",
    "#filter_strings = ['residential','electricity', 'heating']\n",
    "\n",
    "## What it was:\n",
    "#filter_strings[0,1]\n",
    "\n",
    "## Changed to:\n",
    "#filter_strings[1], filter_strings[2]"
   ]
  },
  {
   "cell_type": "code",
   "execution_count": null,
   "metadata": {},
   "outputs": [],
   "source": [
    "test_data_dict"
   ]
  },
  {
   "cell_type": "code",
   "execution_count": null,
   "metadata": {},
   "outputs": [],
   "source": [
    "## Checking list comprehension\n",
    "all_bldg_types ={'residential': ['single family home', 'multi family home', 'mobile homes'], \n",
    "'commercial': ['assembly', 'education', 'food sales','food service', 'health care', 'lodging',\n",
    "'small office','large office','mercantile/serice', 'warehouse', 'other']}\n",
    "\n",
    "for key, value in test_data_dict.items():\n",
    "    print(key,value)\n",
    "    if any(value in test_data_dict for value in filter_strings[1]):\n",
    "        print(\"True#1\")\n",
    "    \n",
    "    if any(value in test_data_dict for value in filter_strings[2]):\n",
    "        print(\"True#2\")\n",
    "    \n",
    "    if any(value in test_data_dict for value in all_bldg_types[filter_strings[0]]) and(\"energy\" in test_data_dict):\n",
    "        print(\"True#3\")"
   ]
  },
  {
   "cell_type": "code",
   "execution_count": null,
   "metadata": {},
   "outputs": [],
   "source": [
    "## Looking into issues with energy_vals obtaining energy values in json\n",
    "np.array([test_data_dict[key]])"
   ]
  },
  {
   "cell_type": "code",
   "execution_count": null,
   "metadata": {},
   "outputs": [],
   "source": [
    "[[test_data_dict[key]] for key,value in sorted(test_data_dict.items())]"
   ]
  },
  {
   "cell_type": "code",
   "execution_count": null,
   "metadata": {},
   "outputs": [],
   "source": [
    "sorted(test_data_dict.items())"
   ]
  },
  {
   "cell_type": "code",
   "execution_count": null,
   "metadata": {},
   "outputs": [],
   "source": []
  },
  {
   "cell_type": "code",
   "execution_count": null,
   "metadata": {},
   "outputs": [],
   "source": []
  },
  {
   "cell_type": "code",
   "execution_count": null,
   "metadata": {},
   "outputs": [],
   "source": []
  },
  {
   "cell_type": "code",
   "execution_count": null,
   "metadata": {},
   "outputs": [],
   "source": []
  },
  {
   "cell_type": "code",
   "execution_count": null,
   "metadata": {},
   "outputs": [],
   "source": []
  },
  {
   "cell_type": "code",
   "execution_count": null,
   "metadata": {},
   "outputs": [],
   "source": []
  },
  {
   "cell_type": "code",
   "execution_count": null,
   "metadata": {},
   "outputs": [],
   "source": []
  },
  {
   "cell_type": "code",
   "execution_count": null,
   "metadata": {},
   "outputs": [],
   "source": []
  },
  {
   "cell_type": "code",
   "execution_count": null,
   "metadata": {},
   "outputs": [],
   "source": [
    "eia_data_array, eia_data_years = data_processor(api_query('96b976d56566570e0292b914bdef21d6', eia_data_str))\n",
    "#semi_raw_eia_api_output = api_query('96b976d56566570e0292b914bdef21d6', 'AEO.2020.REF2020.CNSM_NA_RESD_CDR_ELC_NA_USA_QBTU.A')\n",
    "\n",
    "print(eia_data_array)"
   ]
  },
  {
   "cell_type": "code",
   "execution_count": null,
   "metadata": {},
   "outputs": [],
   "source": []
  },
  {
   "cell_type": "code",
   "execution_count": null,
   "metadata": {},
   "outputs": [],
   "source": [
    "## Current \n",
    "filter_strings = ['residential','electricity','refrigeration']\n",
    "#\n",
    "eia_data_str = 'AEO.2020.REF2020.CNSM_NA_'+bld_class_translator[filter_strings[0]]+'_'+end_use_translator[filter_strings[2]]+'_'+fuel_type_translator[filter_strings[1]]+'_NA_USA_QBTU.A'\n",
    "#print(eia_data_str)"
   ]
  },
  {
   "cell_type": "code",
   "execution_count": null,
   "metadata": {},
   "outputs": [],
   "source": [
    "def data_comparison(filter_strings, json_data_translator_dict, np_array):\n",
    "    # Use json_data_translator_dict to obtain the same data contained in 'val'\n",
    "    # for the other climate zones and add it to the values for climate zone 1\n",
    "    # to get a single list/dict/array of values by year\n",
    "\n",
    "    try:\n",
    "        filter_strings = ['residential','electricity','refrigeration']\n",
    "        # call recursive function, get energy values, change filter string to match the fiter string combo you call from recursive\n",
    "        recursive(json_contents, filter_strings, np.zeros(2))\n",
    "\n",
    "        # IF string combo(i.e eia_data_str and json_data_translator) is present in the test_json and EIA\n",
    "        # for all combos of json_data_translator and test_data; call eia for some str combos \n",
    "        #if all(value in test_data_dict for value in json_data_translator_dict.items()) and any(value in test_data_dict for value in json_data_translator_dict[eia_data_str]): \n",
    "        #eia_energy_vals+= np.array([json_data_translator_dict[key]] for key in sorted(json_data_translator_dict.items()))\n",
    "\n",
    "    \n",
    "    ## Only runs if try block is successful\n",
    "    ## Use expection and print error, but continue until a combo is found\n",
    "    except KeyError:\n",
    "        print('\\nBldg class, fuel type, end use combo not present json data:' + filter_strings)\n",
    "        pass\n",
    "    ## If try block successful, then this runs\n",
    "    else:\n",
    "        # use json_data_translator_dict to determine the data to call from the EIA API, this is series ID\n",
    "        eia_data_str = 'AEO.2020.REF2020.CNSM_NA_'+bld_class_translator[filter_strings[0]]+'_'+end_use_translator[filter_strings[2]]+'_'+fuel_type_translator[filter_strings[1]]+'_NA_USA_QBTU.A'\n",
    "\n",
    "        ## call EIA API and grab EIA energy values based on years\n",
    "        eia_data_array, eia_data_years = data_processor(api_query('96b976d56566570e0292b914bdef21d6', eia_data_str))\n",
    "\n",
    "        ## sum EIA values, compare to json energy value\n",
    "        eia_energy_sum = sum(eia_data_array)\n",
    "\n",
    "        return eia_data_array, eia_data_years\n",
    "\n",
    "        #compare EIA and json energy values\n",
    "        if eia_energy_sum == energy_vals:\n",
    "            print('EIA and json data are equal')\n",
    "        if eia_energy_sum != energy_vals:\n",
    "            print('EIA and json data not equal')\n",
    "        pass\n",
    "    finally:\n",
    "        print(\"Closing EIA API\")\n",
    "        pass"
   ]
  },
  {
   "cell_type": "code",
   "execution_count": null,
   "metadata": {},
   "outputs": [],
   "source": [
    "data_comparison(filter_strings, json_data_translator_dict, np_array)"
   ]
  },
  {
   "cell_type": "code",
   "execution_count": null,
   "metadata": {},
   "outputs": [],
   "source": []
  },
  {
   "cell_type": "code",
   "execution_count": null,
   "metadata": {},
   "outputs": [],
   "source": [
    "## sum EIA values, compare to json energy value\n",
    "eia_energy_sum = sum(eia_data_array)\n",
    "eia_energy_sum"
   ]
  },
  {
   "cell_type": "code",
   "execution_count": null,
   "metadata": {},
   "outputs": [],
   "source": []
  },
  {
   "cell_type": "code",
   "execution_count": null,
   "metadata": {},
   "outputs": [],
   "source": [
    "filter_strings = [\"electricity\", \"refrigeration\"]\n"
   ]
  },
  {
   "cell_type": "code",
   "execution_count": null,
   "metadata": {},
   "outputs": [],
   "source": [
    "recursive(test_data_dict, filter_strings, np.zeros(2))"
   ]
  },
  {
   "cell_type": "code",
   "execution_count": null,
   "metadata": {},
   "outputs": [],
   "source": [
    "# # ['residential', 'electricity', 'clothes washers']\n",
    "# bld_class_translator['residential']\n",
    "# fuel_type_translator['electricity']\n",
    "filter_strings = ['residential', 'electricity', 'clothes washers']\n",
    "#print(bld_class_translator[filter_strings[0]])\n",
    "#print(fuel_type_translator[filter_strings[1]])\n",
    "#print(end_use_translator[filter_strings[2]])"
   ]
  },
  {
   "cell_type": "code",
   "execution_count": null,
   "metadata": {},
   "outputs": [],
   "source": []
  },
  {
   "cell_type": "code",
   "execution_count": null,
   "metadata": {},
   "outputs": [],
   "source": [
    "print(json_data_translator_list)"
   ]
  },
  {
   "cell_type": "code",
   "execution_count": null,
   "metadata": {},
   "outputs": [],
   "source": [
    "print(json_data_list)"
   ]
  },
  {
   "cell_type": "code",
   "execution_count": null,
   "metadata": {},
   "outputs": [],
   "source": []
  },
  {
   "cell_type": "code",
   "execution_count": null,
   "metadata": {},
   "outputs": [],
   "source": [
    "json_data_list = [(k,v) for k,v in test_data_dict.items()]\n",
    "json_data_translator_list = [(k,v) for k,v in json_data_translator_dict.items()]\n",
    "#print (json_data_translator_list)\n",
    "\n",
    "fuel_type_list = [(k,v) for k,v in fuel_type.items()]\n",
    "print(fuel_type_list[0])\n",
    "\n",
    "for key,value in test_data_dict.items():\n",
    "    all(val in json_data_translator_list for val in )\n",
    "#and any(value in test_data_dict for value in json_data_translator_dict[eia_data_str])\n"
   ]
  },
  {
   "cell_type": "code",
   "execution_count": null,
   "metadata": {},
   "outputs": [],
   "source": [
    "fuel_type_translator_list = [(k,v) for k,v in fuel_type_translator.items()]\n",
    "print (fuel_type_translator_list)"
   ]
  },
  {
   "cell_type": "code",
   "execution_count": null,
   "metadata": {},
   "outputs": [],
   "source": []
  },
  {
   "cell_type": "code",
   "execution_count": null,
   "metadata": {},
   "outputs": [],
   "source": []
  },
  {
   "cell_type": "code",
   "execution_count": null,
   "metadata": {},
   "outputs": [],
   "source": [
    "def data_grab(data_descr_dict):\n",
    "    for key,value in data_descr_dict.items():\n",
    "        # if all the values in my data_list are present in my json data, then grab the energy values (i.e call the recursive function)\n",
    "        if all(val in test_data_dict for val in data_descr_list[0,2]):\n",
    "            #Call recursive function\n",
    "            recursive()\n",
    "        # also call the EIA API and grab energy values per year\n",
    "        \n",
    "        \n",
    "\n",
    "#print(type(data_descr_dict)) \n",
    "\n"
   ]
  },
  {
   "cell_type": "code",
   "execution_count": null,
   "metadata": {},
   "outputs": [],
   "source": [
    "# example data_descr_list ['AIA_CZ1', 'residential', 'electricity' , 'clothes washers', '2015']\n",
    "def data_comparison(val, data_descr_list):\n",
    "    bld_class_translator = {'residential': 'RESD', 'commercial': '????'}\n",
    "    end_use_translator = {'clothes washers': 'CLW', 'clothes dryers': 'CDR', ...}\n",
    "    fuel_type_translator = {}\n",
    "    # Use data_descr_list to obtain the same data contained in 'val'\n",
    "    # for the other climate zones and add it to the values for climate zone 1\n",
    "    # to get a single list/dict/array of values by year\n",
    "\n",
    "    # use data_descr_list to determine the data to call from the EIA API\n",
    "    eia_data_str = \"AEO.2020.REF2020.CNSM_NA_\"+bld_class_translator[]+\"_\"+end_use_translator[data_descr_list[2]]+\"_\"+fuel_type_translator[]+\"_NA_USA_QBTU.A\"\n",
    "\n",
    "    # call EIA API\n",
    "    stuff = converter.api_query(os.environ['EIA_API_KEY'], eia_data_str)\n",
    "\n",
    "    # post-process 'stuff' to get values in the form you want for comparison\n",
    "\n",
    "    # perform comparison between EIA API values and data from JSON\n",
    "    # NOTE: does not need to be year-by-year, can compare entire\n",
    "    # list/array/dict at once IF whatever data structures you're using\n",
    "    # are ordered and the years appear in the same order\n",
    "    for year in years:\n",
    "        if stuff[year] != val[year]:\n",
    "            print(\"failed\", data_descr_list)  # This is probably not the best way to inform the user of what didn't match\n"
   ]
  },
  {
   "cell_type": "code",
   "execution_count": null,
   "metadata": {},
   "outputs": [],
   "source": [
    "print(test_data_dict.keys)"
   ]
  },
  {
   "cell_type": "code",
   "execution_count": null,
   "metadata": {},
   "outputs": [],
   "source": [
    "## Changes to be made to recursive function:\n",
    "## (new_DONE) Rename heating_vals... want function to be generic to any case... \n",
    "## (new_DONE) Add additional arguement in the function for specific thing to extract from  years_as_keys_list\n",
    "## (new_DONE) The additional agruement will be a list of other conditions to check for... i.e. cooling, heating, etc\n",
    "\n",
    "\n",
    "## (old_DONE) Check placement for return, want the return to only provide the ans when the condition is met\n",
    "## Make function flexible for any number of years , don't hardcore years, restructure if statement\n",
    "## Inside if statement for heating, prints dict , value.. sort the dict by key(years) and \n",
    "## extract ordered set of values as a list or array and dump into np array for your values\n"
   ]
  },
  {
   "cell_type": "code",
   "execution_count": null,
   "metadata": {},
   "outputs": [],
   "source": [
    "#def recursive(test_data_dict, filter_strings , energy_vals_1, energy_vals_2, all_end_uses=[],years=[],  position_list=[]):\n",
    "    #for key, value in test_data_dict.items():\n",
    "        if isinstance(value, dict):  # figure out how to stop just before the leaf node (or get to the leaf node and then go back one level in the dict) so that you get the dict with the years as keys\n",
    "            ## Parse through JSON file \n",
    "            recursive(value,energy_vals_1, energy_vals_2, position_list+[key]) #years\n",
    "            \n",
    "        #else:\n",
    "        ## Whatever the action is when you get to the endpoint/leaf node\n",
    "            \n",
    "            ## Store each year as a list\n",
    "            #years_as_keys_list = (position_list+[key])\n",
    "            \n",
    "            ## Convert list into numpy array\n",
    "            #years_as_keys_array = np.array(years_as_keys_list)\n",
    "            \n",
    "            ## Extract all end uses relevant un json\n",
    "            #all_end_uses = years_as_keys_list[3]\n",
    "            \n",
    "            #filter_strings = [\"heating\", \"electricity\"]\n",
    "            \n",
    "            ## Isolate all heating energy values by years\n",
    "            #if all(filter_strings in years_as_keys_list) and \"energy\" in years_as_keys_list:\n",
    "                \n",
    "            #if \"heating\" in years_as_keys_list and \"energy\" in years_as_keys_list: \n",
    "                ## Sort  by dict keys (i.e.  years)\n",
    "                #for key, value in test_data_dict:\n",
    "                    #all_years = (years+[key])\n",
    "                    \n",
    "                    #energy_vals[0]+= values\n",
    "                    \n",
    "                    ## Summed heating energy values for a given year\n",
    "                    #final_energy_vals =()\n",
    "                    \n",
    "                    #energy_vals_1[0]+= (years,)\n",
    "                    #energy_vals_1[1]+= energy_2016_vals\n",
    "                    \n",
    "                   # return \n",
    "                \n",
    "                   # energy_2015_vals = test_data_dict.get(\"2015\")\n",
    "                   # energy_2016_vals = test_data_dict.get(\"2016\")\n",
    "                \n",
    "                    ## Extract corresponding heating end_uses \n",
    "                    #heat_end_use = all_end_uses \n",
    "            \n",
    "                #return print(years)  \n",
    "                #return print(\"Summed Heating Energy Values 2015, 2016\", energy_vals_1)\n",
    "                #return print(\"End Use: Heating\", heat_end_use)\n",
    "            \n",
    "            \n",
    "            ## Isolate all refrigeration energy values for 2015 and 2016\n",
    "           # if \"refrigeration\" in years_as_keys_list and \"energy\" in years_as_keys_list:\n",
    "               # energy_refrig_2015_vals = test_data_dict.get(\"2015\")\n",
    "               # energy_refrig_2016_vals = test_data_dict.get(\"2016\")\n",
    "                \n",
    "                ## Summed refrigeration energy values for a given year\n",
    "                #energy_vals_2[0]+= energy_refrig_2015_vals\n",
    "                #energy_vals_2[1]+= energy_refrig_2016_vals\n",
    "                \n",
    "                ## Extract corresponding refrigeration end_uses \n",
    "                #refrig_end_use = all_end_uses\n",
    "                \n",
    "                #return print(\"Summed Refrigeration Energy Values 2015, 2016\", energy_vals_2)\n",
    "                #return print(\"End Use: Refrigeration\", refrig_end_use)\n",
    "                \n",
    "            # above line needs to be checked/modified to make sure you're\n",
    "            # successfully storing the updated/modified numpy array, will add test for this\n",
    "            # will add test to ensure accurate final aggreagated value\n",
    "            \n",
    "            return print((all_end_uses))  \n",
    "                "
   ]
  },
  {
   "cell_type": "code",
   "execution_count": null,
   "metadata": {},
   "outputs": [],
   "source": [
    "           \n",
    "            ### My thoughts         \n",
    "            ### EIA data can be sorted based on end_use b/c all residential , electricity, are the same\n",
    "            ### End use would be i.e. heating, refrigeration, etc \n",
    "            \n",
    "            \n",
    "            ### Tasks\n",
    "            ### Need to use the previous heating and refrigeration summing/aggregate function \n",
    "            ### To test whether or not the final value for a given year is accurate = test of aggregation\n",
    "            ### Need test of modified array to ensure values are properly being added to the array\n",
    "            \n",
    "       \n",
    "            ###Chioke's advice\n",
    "            ### EIA.... structure.. value for each year... do the comparsion at the year level..\n",
    "            ### energy key and dict of year values.. turn into list or numpy array of the vector of values\n",
    "            ### drop the years... get values in order.. 2015, 2016, etc for each technology\n",
    "            ###add in the technology lists.. after go through end uses, fuel type, for each climate zone\n",
    "            ### list of 2015,2016 add up with all technology list.. should match what you would get from the EIA data\n",
    "            ### Create numpy array of all energy values for all years and all technology \n",
    "            ### pre allocated numpy array of zeros, with right dimensions.. each time gets to the adding , pass the empty numpy array\n",
    "            ### return the numpy array\n",
    "            ### each value corresponds to the technology all years.. numpy \n",
    "        \n",
    "             \n",
    "            ### pre allocated np array for len 2, and then plug into if statement to parse the only \n",
    "            ### energy vals \n",
    "            \n",
    "            "
   ]
  },
  {
   "cell_type": "code",
   "execution_count": null,
   "metadata": {
    "scrolled": true
   },
   "outputs": [],
   "source": [
    "# Calls recursive function to ouput results\n",
    "recursive(test_data_dict,np.zeros(2), np.zeros(2))"
   ]
  },
  {
   "cell_type": "code",
   "execution_count": null,
   "metadata": {},
   "outputs": [],
   "source": []
  },
  {
   "cell_type": "code",
   "execution_count": null,
   "metadata": {},
   "outputs": [],
   "source": []
  },
  {
   "cell_type": "code",
   "execution_count": null,
   "metadata": {},
   "outputs": [],
   "source": []
  },
  {
   "cell_type": "code",
   "execution_count": null,
   "metadata": {},
   "outputs": [],
   "source": []
  },
  {
   "cell_type": "code",
   "execution_count": null,
   "metadata": {},
   "outputs": [],
   "source": []
  },
  {
   "cell_type": "code",
   "execution_count": null,
   "metadata": {},
   "outputs": [],
   "source": [
    "# Inspect the test data as a dictionary, climate zones are keys\n",
    "for key in test_data_dict:\n",
    "    print(key)"
   ]
  },
  {
   "cell_type": "code",
   "execution_count": null,
   "metadata": {},
   "outputs": [],
   "source": [
    "for key in test_data_dict:\n",
    "    print(key, '->', test_data_dict[key])"
   ]
  },
  {
   "cell_type": "code",
   "execution_count": null,
   "metadata": {},
   "outputs": [],
   "source": [
    "test_data_items = test_data_dict.items()\n",
    "test_data_items"
   ]
  },
  {
   "cell_type": "code",
   "execution_count": null,
   "metadata": {},
   "outputs": [],
   "source": [
    "for item in test_data_dict.items():\n",
    "    print(item)\n",
    "    print(type(item))"
   ]
  },
  {
   "cell_type": "code",
   "execution_count": null,
   "metadata": {},
   "outputs": [],
   "source": [
    "## Can use tuple unpacking to iterate through key-value pairs\n",
    "for key, value in test_data_dict.items():\n",
    "    print(key, '->', value)"
   ]
  },
  {
   "cell_type": "code",
   "execution_count": null,
   "metadata": {},
   "outputs": [],
   "source": [
    "for key in test_data_dict.keys():\n",
    "    print(key,'->', test_data_dict[key])"
   ]
  },
  {
   "cell_type": "code",
   "execution_count": null,
   "metadata": {},
   "outputs": [],
   "source": [
    "# Iterate through values\n",
    "for value in test_data_dict.values():\n",
    "    for key in list(test_data_dict.values()):\n",
    "        if key == 'heating':\n",
    "            print(key)\n",
    "    #print (value)"
   ]
  },
  {
   "cell_type": "code",
   "execution_count": null,
   "metadata": {},
   "outputs": [],
   "source": [
    "key"
   ]
  },
  {
   "cell_type": "code",
   "execution_count": null,
   "metadata": {},
   "outputs": [],
   "source": []
  }
 ],
 "metadata": {
  "kernelspec": {
   "display_name": "Python 3",
   "language": "python",
   "name": "python3"
  },
  "language_info": {
   "codemirror_mode": {
    "name": "ipython",
    "version": 3
   },
   "file_extension": ".py",
   "mimetype": "text/x-python",
   "name": "python",
   "nbconvert_exporter": "python",
   "pygments_lexer": "ipython3",
   "version": "3.7.4"
  }
 },
 "nbformat": 4,
 "nbformat_minor": 2
}
