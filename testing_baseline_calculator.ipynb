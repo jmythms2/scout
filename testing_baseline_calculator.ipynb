{
 "cells": [
  {
   "cell_type": "code",
   "execution_count": 1,
   "metadata": {},
   "outputs": [],
   "source": [
    "# Test functions for baseline_calculator_code.py and baseline_calculator_test.py"
   ]
  },
  {
   "cell_type": "code",
   "execution_count": 30,
   "metadata": {},
   "outputs": [],
   "source": [
    "# Import test json script for testing\n",
    "import json\n",
    "\n",
    "# Reads json file and puts file information into dict form i.e. test data\n",
    "with open('test_json_traverse.json') as f:\n",
    "  test_data_dict = json.load(f)\n",
    "\n",
    "## Outputs test_json_traverse file as a dictionary\n",
    "#print(test_data_dict)"
   ]
  },
  {
   "cell_type": "code",
   "execution_count": 46,
   "metadata": {},
   "outputs": [
    {
     "data": {
      "text/plain": [
       "dict_items"
      ]
     },
     "execution_count": 46,
     "metadata": {},
     "output_type": "execute_result"
    }
   ],
   "source": [
    "# Converts dict to JSON string\n",
    "test_data = json.dumps(test_data_dict, indent = 2)\n",
    "\n",
    "## Outputs test data as a string\n",
    "#print(test_data)\n",
    "\n",
    "test_data_dict.items()\n",
    "type(test_data_dict.items())"
   ]
  },
  {
   "cell_type": "code",
   "execution_count": 56,
   "metadata": {},
   "outputs": [],
   "source": [
    "# Converts dict to list\n",
    "new_test_data = list(test_data_dict)"
   ]
  },
  {
   "cell_type": "code",
   "execution_count": 75,
   "metadata": {},
   "outputs": [
    {
     "ename": "AttributeError",
     "evalue": "'dict' object has no attribute 'heating'",
     "output_type": "error",
     "traceback": [
      "\u001b[0;31m---------------------------------------------------------------------------\u001b[0m",
      "\u001b[0;31mAttributeError\u001b[0m                            Traceback (most recent call last)",
      "\u001b[0;32m<ipython-input-75-a3d7e47a321b>\u001b[0m in \u001b[0;36m<module>\u001b[0;34m\u001b[0m\n\u001b[1;32m      2\u001b[0m \u001b[0;34m\u001b[0m\u001b[0m\n\u001b[1;32m      3\u001b[0m \u001b[0;32mfor\u001b[0m \u001b[0melem\u001b[0m \u001b[0;32min\u001b[0m \u001b[0mtest_data_dict\u001b[0m\u001b[0;34m.\u001b[0m\u001b[0mvalues\u001b[0m\u001b[0;34m(\u001b[0m\u001b[0;34m)\u001b[0m\u001b[0;34m:\u001b[0m\u001b[0;34m\u001b[0m\u001b[0;34m\u001b[0m\u001b[0m\n\u001b[0;32m----> 4\u001b[0;31m     \u001b[0;32mfor\u001b[0m \u001b[0mval\u001b[0m \u001b[0;32min\u001b[0m \u001b[0melem\u001b[0m\u001b[0;34m.\u001b[0m\u001b[0mheating\u001b[0m\u001b[0;34m(\u001b[0m\u001b[0;34m)\u001b[0m\u001b[0;34m:\u001b[0m\u001b[0;34m\u001b[0m\u001b[0;34m\u001b[0m\u001b[0m\n\u001b[0m\u001b[1;32m      5\u001b[0m         \u001b[0;32mfor\u001b[0m \u001b[0mitem\u001b[0m \u001b[0;32min\u001b[0m \u001b[0mval\u001b[0m\u001b[0;34m[\u001b[0m\u001b[0;34m'test_data_dict'\u001b[0m\u001b[0;34m]\u001b[0m\u001b[0;34m:\u001b[0m\u001b[0;34m\u001b[0m\u001b[0;34m\u001b[0m\u001b[0m\n\u001b[1;32m      6\u001b[0m             \u001b[0mtraversed_vals\u001b[0m\u001b[0;34m(\u001b[0m\u001b[0;34m)\u001b[0m\u001b[0;34m\u001b[0m\u001b[0;34m\u001b[0m\u001b[0m\n",
      "\u001b[0;31mAttributeError\u001b[0m: 'dict' object has no attribute 'heating'"
     ]
    }
   ],
   "source": [
    "# Traverse function for test json structure \n",
    "\n",
    "for elem in test_data_dict.values():\n",
    "    for val in elem.():\n",
    "        for item in val['test_data_dict']:\n",
    "            traversed_vals()"
   ]
  },
  {
   "cell_type": "code",
   "execution_count": 76,
   "metadata": {},
   "outputs": [
    {
     "name": "stdout",
     "output_type": "stream",
     "text": [
      "AIA_CZ1\n",
      "AIA_CZ2\n"
     ]
    }
   ],
   "source": [
    "# Inspect the test data as a dictionary, climate zones are keys\n",
    "for key in test_data_dict:\n",
    "    print(key)"
   ]
  },
  {
   "cell_type": "code",
   "execution_count": 77,
   "metadata": {},
   "outputs": [
    {
     "name": "stdout",
     "output_type": "stream",
     "text": [
      "AIA_CZ1 -> {'single family home': {'electricity': {'heating': {'supply': {'resistance heat': {'stock': {'2015': 1, '2016': 1}, 'energy': {'2015': 2, '2016': 3}}, 'ASHP': {'stock': {'2015': 1, '2016': 1}, 'energy': {'2015': 5, '2016': 2}}, 'GSHP': {'stock': {'2015': 1, '2016': 1}, 'energy': {'2015': 3, '2016': 9}}}}, 'refrigeration': {'stock': {'2015': 1, '2016': 1}, 'energy': {'2015': 3, '2016': 5}}}}, 'multi family home': {'electricity': {'heating': {'supply': {'resistance heat': {'stock': {'2015': 1, '2016': 1}, 'energy': {'2015': 5, '2016': 7}}, 'ASHP': {'stock': {'2015': 1, '2016': 1}, 'energy': {'2015': 3, '2016': 8}}, 'GSHP': {'stock': {'2015': 1, '2016': 1}, 'energy': {'2015': 6, '2016': 4}}}}, 'refrigeration': {'stock': {'2015': 1, '2016': 1}, 'energy': {'2015': 7, '2016': 7}}}}, 'mobile home': {'electricity': {'heating': {'supply': {'resistance heat': {'stock': {'2015': 1, '2016': 1}, 'energy': {'2015': 2, '2016': 3}}, 'ASHP': {'stock': {'2015': 1, '2016': 1}, 'energy': {'2015': 9, '2016': 6}}, 'GSHP': {'stock': {'2015': 1, '2016': 1}, 'energy': {'2015': 5, '2016': 4}}}}, 'refrigeration': {'stock': {'2015': 1, '2016': 1}, 'energy': {'2015': 6, '2016': 8}}}}}\n",
      "AIA_CZ2 -> {'single family home': {'electricity': {'heating': {'supply': {'resistance heat': {'stock': {'2015': 1, '2016': 1}, 'energy': {'2015': 2, '2016': 3}}, 'ASHP': {'stock': {'2015': 1, '2016': 1}, 'energy': {'2015': 5, '2016': 2}}, 'GSHP': {'stock': {'2015': 1, '2016': 1}, 'energy': {'2015': 3, '2016': 9}}}}, 'refrigeration': {'stock': {'2015': 1, '2016': 1}, 'energy': {'2015': 5, '2016': 5}}}}, 'multi family home': {'electricity': {'heating': {'supply': {'resistance heat': {'stock': {'2015': 1, '2016': 1}, 'energy': {'2015': 5, '2016': 7}}, 'ASHP': {'stock': {'2015': 1, '2016': 1}, 'energy': {'2015': 3, '2016': 8}}, 'GSHP': {'stock': {'2015': 1, '2016': 1}, 'energy': {'2015': 6, '2016': 4}}}}, 'refrigeration': {'stock': {'2015': 1, '2016': 1}, 'energy': {'2015': 4, '2016': 7}}}}, 'mobile home': {'electricity': {'heating': {'supply': {'resistance heat': {'stock': {'2015': 1, '2016': 1}, 'energy': {'2015': 2, '2016': 3}}, 'ASHP': {'stock': {'2015': 1, '2016': 1}, 'energy': {'2015': 9, '2016': 6}}, 'GSHP': {'stock': {'2015': 1, '2016': 1}, 'energy': {'2015': 5, '2016': 4}}}}, 'refrigeration': {'stock': {'2015': 1, '2016': 1}, 'energy': {'2015': 9, '2016': 5}}}}}\n"
     ]
    }
   ],
   "source": [
    "for key in test_data_dict:\n",
    "    print(key, '->', test_data_dict[key])"
   ]
  },
  {
   "cell_type": "code",
   "execution_count": 78,
   "metadata": {},
   "outputs": [
    {
     "data": {
      "text/plain": [
       "dict_items([('AIA_CZ1', {'single family home': {'electricity': {'heating': {'supply': {'resistance heat': {'stock': {'2015': 1, '2016': 1}, 'energy': {'2015': 2, '2016': 3}}, 'ASHP': {'stock': {'2015': 1, '2016': 1}, 'energy': {'2015': 5, '2016': 2}}, 'GSHP': {'stock': {'2015': 1, '2016': 1}, 'energy': {'2015': 3, '2016': 9}}}}, 'refrigeration': {'stock': {'2015': 1, '2016': 1}, 'energy': {'2015': 3, '2016': 5}}}}, 'multi family home': {'electricity': {'heating': {'supply': {'resistance heat': {'stock': {'2015': 1, '2016': 1}, 'energy': {'2015': 5, '2016': 7}}, 'ASHP': {'stock': {'2015': 1, '2016': 1}, 'energy': {'2015': 3, '2016': 8}}, 'GSHP': {'stock': {'2015': 1, '2016': 1}, 'energy': {'2015': 6, '2016': 4}}}}, 'refrigeration': {'stock': {'2015': 1, '2016': 1}, 'energy': {'2015': 7, '2016': 7}}}}, 'mobile home': {'electricity': {'heating': {'supply': {'resistance heat': {'stock': {'2015': 1, '2016': 1}, 'energy': {'2015': 2, '2016': 3}}, 'ASHP': {'stock': {'2015': 1, '2016': 1}, 'energy': {'2015': 9, '2016': 6}}, 'GSHP': {'stock': {'2015': 1, '2016': 1}, 'energy': {'2015': 5, '2016': 4}}}}, 'refrigeration': {'stock': {'2015': 1, '2016': 1}, 'energy': {'2015': 6, '2016': 8}}}}}), ('AIA_CZ2', {'single family home': {'electricity': {'heating': {'supply': {'resistance heat': {'stock': {'2015': 1, '2016': 1}, 'energy': {'2015': 2, '2016': 3}}, 'ASHP': {'stock': {'2015': 1, '2016': 1}, 'energy': {'2015': 5, '2016': 2}}, 'GSHP': {'stock': {'2015': 1, '2016': 1}, 'energy': {'2015': 3, '2016': 9}}}}, 'refrigeration': {'stock': {'2015': 1, '2016': 1}, 'energy': {'2015': 5, '2016': 5}}}}, 'multi family home': {'electricity': {'heating': {'supply': {'resistance heat': {'stock': {'2015': 1, '2016': 1}, 'energy': {'2015': 5, '2016': 7}}, 'ASHP': {'stock': {'2015': 1, '2016': 1}, 'energy': {'2015': 3, '2016': 8}}, 'GSHP': {'stock': {'2015': 1, '2016': 1}, 'energy': {'2015': 6, '2016': 4}}}}, 'refrigeration': {'stock': {'2015': 1, '2016': 1}, 'energy': {'2015': 4, '2016': 7}}}}, 'mobile home': {'electricity': {'heating': {'supply': {'resistance heat': {'stock': {'2015': 1, '2016': 1}, 'energy': {'2015': 2, '2016': 3}}, 'ASHP': {'stock': {'2015': 1, '2016': 1}, 'energy': {'2015': 9, '2016': 6}}, 'GSHP': {'stock': {'2015': 1, '2016': 1}, 'energy': {'2015': 5, '2016': 4}}}}, 'refrigeration': {'stock': {'2015': 1, '2016': 1}, 'energy': {'2015': 9, '2016': 5}}}}})])"
      ]
     },
     "execution_count": 78,
     "metadata": {},
     "output_type": "execute_result"
    }
   ],
   "source": [
    "test_data_items = test_data_dict.items()\n",
    "test_data_items"
   ]
  },
  {
   "cell_type": "code",
   "execution_count": 80,
   "metadata": {},
   "outputs": [
    {
     "name": "stdout",
     "output_type": "stream",
     "text": [
      "('AIA_CZ1', {'single family home': {'electricity': {'heating': {'supply': {'resistance heat': {'stock': {'2015': 1, '2016': 1}, 'energy': {'2015': 2, '2016': 3}}, 'ASHP': {'stock': {'2015': 1, '2016': 1}, 'energy': {'2015': 5, '2016': 2}}, 'GSHP': {'stock': {'2015': 1, '2016': 1}, 'energy': {'2015': 3, '2016': 9}}}}, 'refrigeration': {'stock': {'2015': 1, '2016': 1}, 'energy': {'2015': 3, '2016': 5}}}}, 'multi family home': {'electricity': {'heating': {'supply': {'resistance heat': {'stock': {'2015': 1, '2016': 1}, 'energy': {'2015': 5, '2016': 7}}, 'ASHP': {'stock': {'2015': 1, '2016': 1}, 'energy': {'2015': 3, '2016': 8}}, 'GSHP': {'stock': {'2015': 1, '2016': 1}, 'energy': {'2015': 6, '2016': 4}}}}, 'refrigeration': {'stock': {'2015': 1, '2016': 1}, 'energy': {'2015': 7, '2016': 7}}}}, 'mobile home': {'electricity': {'heating': {'supply': {'resistance heat': {'stock': {'2015': 1, '2016': 1}, 'energy': {'2015': 2, '2016': 3}}, 'ASHP': {'stock': {'2015': 1, '2016': 1}, 'energy': {'2015': 9, '2016': 6}}, 'GSHP': {'stock': {'2015': 1, '2016': 1}, 'energy': {'2015': 5, '2016': 4}}}}, 'refrigeration': {'stock': {'2015': 1, '2016': 1}, 'energy': {'2015': 6, '2016': 8}}}}})\n",
      "<class 'tuple'>\n",
      "('AIA_CZ2', {'single family home': {'electricity': {'heating': {'supply': {'resistance heat': {'stock': {'2015': 1, '2016': 1}, 'energy': {'2015': 2, '2016': 3}}, 'ASHP': {'stock': {'2015': 1, '2016': 1}, 'energy': {'2015': 5, '2016': 2}}, 'GSHP': {'stock': {'2015': 1, '2016': 1}, 'energy': {'2015': 3, '2016': 9}}}}, 'refrigeration': {'stock': {'2015': 1, '2016': 1}, 'energy': {'2015': 5, '2016': 5}}}}, 'multi family home': {'electricity': {'heating': {'supply': {'resistance heat': {'stock': {'2015': 1, '2016': 1}, 'energy': {'2015': 5, '2016': 7}}, 'ASHP': {'stock': {'2015': 1, '2016': 1}, 'energy': {'2015': 3, '2016': 8}}, 'GSHP': {'stock': {'2015': 1, '2016': 1}, 'energy': {'2015': 6, '2016': 4}}}}, 'refrigeration': {'stock': {'2015': 1, '2016': 1}, 'energy': {'2015': 4, '2016': 7}}}}, 'mobile home': {'electricity': {'heating': {'supply': {'resistance heat': {'stock': {'2015': 1, '2016': 1}, 'energy': {'2015': 2, '2016': 3}}, 'ASHP': {'stock': {'2015': 1, '2016': 1}, 'energy': {'2015': 9, '2016': 6}}, 'GSHP': {'stock': {'2015': 1, '2016': 1}, 'energy': {'2015': 5, '2016': 4}}}}, 'refrigeration': {'stock': {'2015': 1, '2016': 1}, 'energy': {'2015': 9, '2016': 5}}}}})\n",
      "<class 'tuple'>\n"
     ]
    }
   ],
   "source": [
    "for item in test_data_dict.items():\n",
    "    print(item)\n",
    "    print(type(item))"
   ]
  },
  {
   "cell_type": "code",
   "execution_count": 81,
   "metadata": {},
   "outputs": [
    {
     "name": "stdout",
     "output_type": "stream",
     "text": [
      "AIA_CZ1 -> {'single family home': {'electricity': {'heating': {'supply': {'resistance heat': {'stock': {'2015': 1, '2016': 1}, 'energy': {'2015': 2, '2016': 3}}, 'ASHP': {'stock': {'2015': 1, '2016': 1}, 'energy': {'2015': 5, '2016': 2}}, 'GSHP': {'stock': {'2015': 1, '2016': 1}, 'energy': {'2015': 3, '2016': 9}}}}, 'refrigeration': {'stock': {'2015': 1, '2016': 1}, 'energy': {'2015': 3, '2016': 5}}}}, 'multi family home': {'electricity': {'heating': {'supply': {'resistance heat': {'stock': {'2015': 1, '2016': 1}, 'energy': {'2015': 5, '2016': 7}}, 'ASHP': {'stock': {'2015': 1, '2016': 1}, 'energy': {'2015': 3, '2016': 8}}, 'GSHP': {'stock': {'2015': 1, '2016': 1}, 'energy': {'2015': 6, '2016': 4}}}}, 'refrigeration': {'stock': {'2015': 1, '2016': 1}, 'energy': {'2015': 7, '2016': 7}}}}, 'mobile home': {'electricity': {'heating': {'supply': {'resistance heat': {'stock': {'2015': 1, '2016': 1}, 'energy': {'2015': 2, '2016': 3}}, 'ASHP': {'stock': {'2015': 1, '2016': 1}, 'energy': {'2015': 9, '2016': 6}}, 'GSHP': {'stock': {'2015': 1, '2016': 1}, 'energy': {'2015': 5, '2016': 4}}}}, 'refrigeration': {'stock': {'2015': 1, '2016': 1}, 'energy': {'2015': 6, '2016': 8}}}}}\n",
      "AIA_CZ2 -> {'single family home': {'electricity': {'heating': {'supply': {'resistance heat': {'stock': {'2015': 1, '2016': 1}, 'energy': {'2015': 2, '2016': 3}}, 'ASHP': {'stock': {'2015': 1, '2016': 1}, 'energy': {'2015': 5, '2016': 2}}, 'GSHP': {'stock': {'2015': 1, '2016': 1}, 'energy': {'2015': 3, '2016': 9}}}}, 'refrigeration': {'stock': {'2015': 1, '2016': 1}, 'energy': {'2015': 5, '2016': 5}}}}, 'multi family home': {'electricity': {'heating': {'supply': {'resistance heat': {'stock': {'2015': 1, '2016': 1}, 'energy': {'2015': 5, '2016': 7}}, 'ASHP': {'stock': {'2015': 1, '2016': 1}, 'energy': {'2015': 3, '2016': 8}}, 'GSHP': {'stock': {'2015': 1, '2016': 1}, 'energy': {'2015': 6, '2016': 4}}}}, 'refrigeration': {'stock': {'2015': 1, '2016': 1}, 'energy': {'2015': 4, '2016': 7}}}}, 'mobile home': {'electricity': {'heating': {'supply': {'resistance heat': {'stock': {'2015': 1, '2016': 1}, 'energy': {'2015': 2, '2016': 3}}, 'ASHP': {'stock': {'2015': 1, '2016': 1}, 'energy': {'2015': 9, '2016': 6}}, 'GSHP': {'stock': {'2015': 1, '2016': 1}, 'energy': {'2015': 5, '2016': 4}}}}, 'refrigeration': {'stock': {'2015': 1, '2016': 1}, 'energy': {'2015': 9, '2016': 5}}}}}\n"
     ]
    }
   ],
   "source": [
    "## Can use tuple unpacking to iterate through key-value pairs\n",
    "for key, value in test_data_dict.items():\n",
    "    print(key, '->', value)"
   ]
  },
  {
   "cell_type": "code",
   "execution_count": 82,
   "metadata": {},
   "outputs": [
    {
     "name": "stdout",
     "output_type": "stream",
     "text": [
      "AIA_CZ1 -> {'single family home': {'electricity': {'heating': {'supply': {'resistance heat': {'stock': {'2015': 1, '2016': 1}, 'energy': {'2015': 2, '2016': 3}}, 'ASHP': {'stock': {'2015': 1, '2016': 1}, 'energy': {'2015': 5, '2016': 2}}, 'GSHP': {'stock': {'2015': 1, '2016': 1}, 'energy': {'2015': 3, '2016': 9}}}}, 'refrigeration': {'stock': {'2015': 1, '2016': 1}, 'energy': {'2015': 3, '2016': 5}}}}, 'multi family home': {'electricity': {'heating': {'supply': {'resistance heat': {'stock': {'2015': 1, '2016': 1}, 'energy': {'2015': 5, '2016': 7}}, 'ASHP': {'stock': {'2015': 1, '2016': 1}, 'energy': {'2015': 3, '2016': 8}}, 'GSHP': {'stock': {'2015': 1, '2016': 1}, 'energy': {'2015': 6, '2016': 4}}}}, 'refrigeration': {'stock': {'2015': 1, '2016': 1}, 'energy': {'2015': 7, '2016': 7}}}}, 'mobile home': {'electricity': {'heating': {'supply': {'resistance heat': {'stock': {'2015': 1, '2016': 1}, 'energy': {'2015': 2, '2016': 3}}, 'ASHP': {'stock': {'2015': 1, '2016': 1}, 'energy': {'2015': 9, '2016': 6}}, 'GSHP': {'stock': {'2015': 1, '2016': 1}, 'energy': {'2015': 5, '2016': 4}}}}, 'refrigeration': {'stock': {'2015': 1, '2016': 1}, 'energy': {'2015': 6, '2016': 8}}}}}\n",
      "AIA_CZ2 -> {'single family home': {'electricity': {'heating': {'supply': {'resistance heat': {'stock': {'2015': 1, '2016': 1}, 'energy': {'2015': 2, '2016': 3}}, 'ASHP': {'stock': {'2015': 1, '2016': 1}, 'energy': {'2015': 5, '2016': 2}}, 'GSHP': {'stock': {'2015': 1, '2016': 1}, 'energy': {'2015': 3, '2016': 9}}}}, 'refrigeration': {'stock': {'2015': 1, '2016': 1}, 'energy': {'2015': 5, '2016': 5}}}}, 'multi family home': {'electricity': {'heating': {'supply': {'resistance heat': {'stock': {'2015': 1, '2016': 1}, 'energy': {'2015': 5, '2016': 7}}, 'ASHP': {'stock': {'2015': 1, '2016': 1}, 'energy': {'2015': 3, '2016': 8}}, 'GSHP': {'stock': {'2015': 1, '2016': 1}, 'energy': {'2015': 6, '2016': 4}}}}, 'refrigeration': {'stock': {'2015': 1, '2016': 1}, 'energy': {'2015': 4, '2016': 7}}}}, 'mobile home': {'electricity': {'heating': {'supply': {'resistance heat': {'stock': {'2015': 1, '2016': 1}, 'energy': {'2015': 2, '2016': 3}}, 'ASHP': {'stock': {'2015': 1, '2016': 1}, 'energy': {'2015': 9, '2016': 6}}, 'GSHP': {'stock': {'2015': 1, '2016': 1}, 'energy': {'2015': 5, '2016': 4}}}}, 'refrigeration': {'stock': {'2015': 1, '2016': 1}, 'energy': {'2015': 9, '2016': 5}}}}}\n"
     ]
    }
   ],
   "source": [
    "for key in test_data_dict.keys():\n",
    "    print(key,'->', test_data_dict[key])"
   ]
  },
  {
   "cell_type": "code",
   "execution_count": 235,
   "metadata": {},
   "outputs": [],
   "source": [
    "# Converts the key-value dict pairs in test data to a list\n",
    "test_data_list = list(test_data_dict.values())\n",
    "# Index into AIA_CZ1\n",
    "CZ1 = test_data_list[0]\n",
    "CZ2 = test_data_list[1]\n",
    "\n",
    "\n",
    "\n",
    "#bldg_types = CZ1.keys()\n",
    "#all_values = CZ1.values()\n",
    "\n",
    "\n",
    "\n",
    "\n",
    "#def traverse_data(test_data_dict):\n",
    "    # Grabs values from dictionary\n",
    "    #for value in test_data_dict.values()\n",
    "    \n",
    "# Grabs first tuple\n",
    "#test_values = (1,test_data_list[1])\n",
    "#test_values\n",
    "\n",
    "        \n",
    "\n",
    "            "
   ]
  },
  {
   "cell_type": "code",
   "execution_count": null,
   "metadata": {},
   "outputs": [],
   "source": [
    "## Traverse function to grab structure of test data\n",
    "\n",
    "def traverse_data():\n",
    "    # Grabs values from dict structure\n",
    "    "
   ]
  },
  {
   "cell_type": "code",
   "execution_count": 231,
   "metadata": {},
   "outputs": [
    {
     "data": {
      "text/plain": [
       "{'2015': 2, '2016': 3}"
      ]
     },
     "execution_count": 231,
     "metadata": {},
     "output_type": "execute_result"
    }
   ],
   "source": [
    "# Index to access energy values\n",
    "sfam=(CZ1[\"single family home\"][\"electricity\"])\n",
    "sfam[\"heating\"][\"supply\"][\"resistance heat\"][\"energy\"]"
   ]
  },
  {
   "cell_type": "code",
   "execution_count": 173,
   "metadata": {},
   "outputs": [
    {
     "data": {
      "text/plain": [
       "dict"
      ]
     },
     "execution_count": 173,
     "metadata": {},
     "output_type": "execute_result"
    }
   ],
   "source": [
    "# if at an endpoint of the dict structure, then do something.. \n",
    "# key, value pair another pair = condition.. is the value a dict or not.. if it is then continue the recursive function\n",
    "# build up a list with your current postions.. one argument is an empty list.. call the function again.. pass the list again and append to it\n",
    "\n",
    "\n",
    "\n",
    "# else call function again... pass structure of the position you are located at\n",
    "# condiitons based on generic\n",
    "\n",
    "def recursive():\n",
    "    "
   ]
  },
  {
   "cell_type": "code",
   "execution_count": 171,
   "metadata": {},
   "outputs": [
    {
     "data": {
      "text/plain": [
       "{'single family home': {'electricity': {'heating': {'supply': {'resistance heat': {'stock': {'2015': 1,\n",
       "       '2016': 1},\n",
       "      'energy': {'2015': 2, '2016': 3}},\n",
       "     'ASHP': {'stock': {'2015': 1, '2016': 1},\n",
       "      'energy': {'2015': 5, '2016': 2}},\n",
       "     'GSHP': {'stock': {'2015': 1, '2016': 1},\n",
       "      'energy': {'2015': 3, '2016': 9}}}},\n",
       "   'refrigeration': {'stock': {'2015': 1, '2016': 1},\n",
       "    'energy': {'2015': 5, '2016': 5}}}},\n",
       " 'multi family home': {'electricity': {'heating': {'supply': {'resistance heat': {'stock': {'2015': 1,\n",
       "       '2016': 1},\n",
       "      'energy': {'2015': 5, '2016': 7}},\n",
       "     'ASHP': {'stock': {'2015': 1, '2016': 1},\n",
       "      'energy': {'2015': 3, '2016': 8}},\n",
       "     'GSHP': {'stock': {'2015': 1, '2016': 1},\n",
       "      'energy': {'2015': 6, '2016': 4}}}},\n",
       "   'refrigeration': {'stock': {'2015': 1, '2016': 1},\n",
       "    'energy': {'2015': 4, '2016': 7}}}},\n",
       " 'mobile home': {'electricity': {'heating': {'supply': {'resistance heat': {'stock': {'2015': 1,\n",
       "       '2016': 1},\n",
       "      'energy': {'2015': 2, '2016': 3}},\n",
       "     'ASHP': {'stock': {'2015': 1, '2016': 1},\n",
       "      'energy': {'2015': 9, '2016': 6}},\n",
       "     'GSHP': {'stock': {'2015': 1, '2016': 1},\n",
       "      'energy': {'2015': 5, '2016': 4}}}},\n",
       "   'refrigeration': {'stock': {'2015': 1, '2016': 1},\n",
       "    'energy': {'2015': 9, '2016': 5}}}}}"
      ]
     },
     "execution_count": 171,
     "metadata": {},
     "output_type": "execute_result"
    }
   ],
   "source": [
    "# Indexes into second key in test data= AIA_CZ2\n",
    "test_data_list[1]"
   ]
  },
  {
   "cell_type": "code",
   "execution_count": 161,
   "metadata": {},
   "outputs": [
    {
     "name": "stdout",
     "output_type": "stream",
     "text": [
      "{'single family home': {'electricity': {'heating': {'supply': {'resistance heat': {'stock': {'2015': 1, '2016': 1}, 'energy': {'2015': 2, '2016': 3}}, 'ASHP': {'stock': {'2015': 1, '2016': 1}, 'energy': {'2015': 5, '2016': 2}}, 'GSHP': {'stock': {'2015': 1, '2016': 1}, 'energy': {'2015': 3, '2016': 9}}}}, 'refrigeration': {'stock': {'2015': 1, '2016': 1}, 'energy': {'2015': 3, '2016': 5}}}}, 'multi family home': {'electricity': {'heating': {'supply': {'resistance heat': {'stock': {'2015': 1, '2016': 1}, 'energy': {'2015': 5, '2016': 7}}, 'ASHP': {'stock': {'2015': 1, '2016': 1}, 'energy': {'2015': 3, '2016': 8}}, 'GSHP': {'stock': {'2015': 1, '2016': 1}, 'energy': {'2015': 6, '2016': 4}}}}, 'refrigeration': {'stock': {'2015': 1, '2016': 1}, 'energy': {'2015': 7, '2016': 7}}}}, 'mobile home': {'electricity': {'heating': {'supply': {'resistance heat': {'stock': {'2015': 1, '2016': 1}, 'energy': {'2015': 2, '2016': 3}}, 'ASHP': {'stock': {'2015': 1, '2016': 1}, 'energy': {'2015': 9, '2016': 6}}, 'GSHP': {'stock': {'2015': 1, '2016': 1}, 'energy': {'2015': 5, '2016': 4}}}}, 'refrigeration': {'stock': {'2015': 1, '2016': 1}, 'energy': {'2015': 6, '2016': 8}}}}}\n",
      "{'single family home': {'electricity': {'heating': {'supply': {'resistance heat': {'stock': {'2015': 1, '2016': 1}, 'energy': {'2015': 2, '2016': 3}}, 'ASHP': {'stock': {'2015': 1, '2016': 1}, 'energy': {'2015': 5, '2016': 2}}, 'GSHP': {'stock': {'2015': 1, '2016': 1}, 'energy': {'2015': 3, '2016': 9}}}}, 'refrigeration': {'stock': {'2015': 1, '2016': 1}, 'energy': {'2015': 5, '2016': 5}}}}, 'multi family home': {'electricity': {'heating': {'supply': {'resistance heat': {'stock': {'2015': 1, '2016': 1}, 'energy': {'2015': 5, '2016': 7}}, 'ASHP': {'stock': {'2015': 1, '2016': 1}, 'energy': {'2015': 3, '2016': 8}}, 'GSHP': {'stock': {'2015': 1, '2016': 1}, 'energy': {'2015': 6, '2016': 4}}}}, 'refrigeration': {'stock': {'2015': 1, '2016': 1}, 'energy': {'2015': 4, '2016': 7}}}}, 'mobile home': {'electricity': {'heating': {'supply': {'resistance heat': {'stock': {'2015': 1, '2016': 1}, 'energy': {'2015': 2, '2016': 3}}, 'ASHP': {'stock': {'2015': 1, '2016': 1}, 'energy': {'2015': 9, '2016': 6}}, 'GSHP': {'stock': {'2015': 1, '2016': 1}, 'energy': {'2015': 5, '2016': 4}}}}, 'refrigeration': {'stock': {'2015': 1, '2016': 1}, 'energy': {'2015': 9, '2016': 5}}}}}\n"
     ]
    }
   ],
   "source": [
    "for i in range(len(test_data_list)):\n",
    "    print(test_data_list[i])\n",
    "    i+=1"
   ]
  },
  {
   "cell_type": "code",
   "execution_count": null,
   "metadata": {},
   "outputs": [],
   "source": [
    "## Recursive function\n",
    "\n",
    "def recursive_data(n):\n",
    "    if n==0:\n",
    "        "
   ]
  },
  {
   "cell_type": "code",
   "execution_count": null,
   "metadata": {},
   "outputs": [],
   "source": [
    "# Notes\n",
    "#Iterate over list to supply(i.e. end use, year, values) \n",
    "        #for supply in list(test_data_dict.values()):\n",
    "            #print(supply)\n",
    "        \n",
    "        #if key == 'supply':\n",
    "            #print(key, '->', test_data_dict[key])\n",
    "            "
   ]
  },
  {
   "cell_type": "code",
   "execution_count": null,
   "metadata": {},
   "outputs": [],
   "source": []
  }
 ],
 "metadata": {
  "kernelspec": {
   "display_name": "Python 3",
   "language": "python",
   "name": "python3"
  },
  "language_info": {
   "codemirror_mode": {
    "name": "ipython",
    "version": 3
   },
   "file_extension": ".py",
   "mimetype": "text/x-python",
   "name": "python",
   "nbconvert_exporter": "python",
   "pygments_lexer": "ipython3",
   "version": "3.7.4"
  }
 },
 "nbformat": 4,
 "nbformat_minor": 2
}
